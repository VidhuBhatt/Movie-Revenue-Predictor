{
 "cells": [
  {
   "cell_type": "markdown",
   "metadata": {},
   "source": [
    "<div id=\"container\" style=\"position:relative;\">\n",
    "<div style=\"float:left\"><h1>Movie Revenue Predictor - A story with Machine Learning</h1></div>\n",
    "</div></div>"
   ]
  },
  {
   "cell_type": "markdown",
   "metadata": {},
   "source": [
    "### ABSTRACT"
   ]
  },
  {
   "cell_type": "markdown",
   "metadata": {},
   "source": [
    "Movie Revenue Prediction could be studied under business, statistics or forecasting.This project is an effort to build a tool using statistical and Machine Learning techniques that could help producers and investors make better and more informed investment decisions."
   ]
  },
  {
   "cell_type": "markdown",
   "metadata": {},
   "source": [
    "### INTRODUCTION"
   ]
  },
  {
   "cell_type": "markdown",
   "metadata": {},
   "source": [
    "The motion pictures industry is a USD 42.5 Billion industry as of 2019, from worldwide box office collections, which is forecasted to grow to nearly USD 50 Billion in 2020. Unlike other major industries that have a well-defined process for accurately predicting top line and bottom line figures, no scientifically proven techniques exist for this industry. \n",
    "\n",
    "As a part-time movie buff, I have always wondered why some really good movies do not earn even remotely as much as some brain dead ones.\n",
    "\n",
    "Given the amount of money that rides on the back of this industry one can safely say that hundreds and thousands of livelihoods are directly or indirectly dependent on the success and sustainability of this industry. This topic is worth a shot."
   ]
  },
  {
   "cell_type": "markdown",
   "metadata": {},
   "source": [
    "### OBJECTIVE"
   ]
  },
  {
   "cell_type": "markdown",
   "metadata": {},
   "source": [
    "The objective of this project is to develop a tool based on statistical techniques that could predict the revenue of a movie on the basis of the different features. Below are some initial question that could be answered in this report:\n",
    "\n",
    "🕵️‍ Is there any way to predict how much revenue a movie will generate?\n",
    "\n",
    "🕵️‍ Is there really any recipe to make a successful movie?\n",
    "\n",
    "🕵️‍ What are the parameters that make a movie successful?"
   ]
  },
  {
   "cell_type": "markdown",
   "metadata": {},
   "source": [
    "### Little About Data....."
   ]
  },
  {
   "cell_type": "markdown",
   "metadata": {},
   "source": [
    "The data used for analysis was sourced from Kaggle [The Movies Dataset](https://www.kaggle.com/rounakbanik/the-movies-dataset).\n",
    "\n",
    "There are 7 different csv(comma separated values) files. The files used in this project are movie_metadata and credits.\n",
    "\n",
    "The primary features include cast, crew, popularity,budget, revenue, release dates,genres, languages, production companies, countries, TMDB vote counts and IMDB rating.The original dataset contains nearly 45000 datapoints and 24 features."
   ]
  },
  {
   "cell_type": "markdown",
   "metadata": {},
   "source": [
    "### Let's get started"
   ]
  },
  {
   "cell_type": "markdown",
   "metadata": {},
   "source": [
    "### Importing the libraries required for the analysis"
   ]
  },
  {
   "cell_type": "code",
   "execution_count": 1,
   "metadata": {},
   "outputs": [],
   "source": [
    "import pandas as pd\n",
    "import numpy as np\n",
    "import ast\n",
    "\n",
    "#Ignore warnings\n",
    "import warnings\n",
    "warnings.filterwarnings(\"ignore\")\n",
    "\n",
    "#for plotting\n",
    "import matplotlib.pyplot as plt\n",
    "%matplotlib inline"
   ]
  },
  {
   "cell_type": "markdown",
   "metadata": {},
   "source": [
    "### Importing Data from csv files"
   ]
  },
  {
   "cell_type": "markdown",
   "metadata": {},
   "source": [
    "#### This Dataset contains of all the data related to movies"
   ]
  },
  {
   "cell_type": "code",
   "execution_count": 2,
   "metadata": {},
   "outputs": [],
   "source": [
    "df_movies_metadata = pd.read_csv('the-movies-dataset/movies_metadata.csv')\n",
    "#df_movies_metadata.head"
   ]
  },
  {
   "cell_type": "markdown",
   "metadata": {},
   "source": [
    "#### This Dataset contains of all the cast and crew of the movies"
   ]
  },
  {
   "cell_type": "code",
   "execution_count": 3,
   "metadata": {},
   "outputs": [],
   "source": [
    "df_credits = pd.read_csv('the-movies-dataset/credits.csv')\n",
    "#df_credits.head()"
   ]
  },
  {
   "cell_type": "markdown",
   "metadata": {},
   "source": [
    "#### Manually created csv file contains year and inflation index from 1915 to 2020"
   ]
  },
  {
   "cell_type": "code",
   "execution_count": 4,
   "metadata": {},
   "outputs": [],
   "source": [
    "df_inflation = pd.read_csv('Inflation_By_Year.csv')\n",
    "#df_inflation.head()"
   ]
  },
  {
   "cell_type": "markdown",
   "metadata": {},
   "source": [
    "#### The shape of the primary dataset before cleaning."
   ]
  },
  {
   "cell_type": "code",
   "execution_count": 5,
   "metadata": {},
   "outputs": [
    {
     "data": {
      "text/plain": [
       "(45466, 24)"
      ]
     },
     "execution_count": 5,
     "metadata": {},
     "output_type": "execute_result"
    }
   ],
   "source": [
    "df_movies_metadata.shape"
   ]
  },
  {
   "cell_type": "markdown",
   "metadata": {},
   "source": [
    "#### Analyzing movies dataset for null values"
   ]
  },
  {
   "cell_type": "code",
   "execution_count": 6,
   "metadata": {},
   "outputs": [
    {
     "data": {
      "text/plain": [
       "adult                        0\n",
       "belongs_to_collection    40972\n",
       "budget                       0\n",
       "genres                       0\n",
       "homepage                 37684\n",
       "id                           0\n",
       "imdb_id                     17\n",
       "original_language           11\n",
       "original_title               0\n",
       "overview                   954\n",
       "popularity                   5\n",
       "poster_path                386\n",
       "production_companies         3\n",
       "production_countries         3\n",
       "release_date                87\n",
       "revenue                      6\n",
       "runtime                    263\n",
       "spoken_languages             6\n",
       "status                      87\n",
       "tagline                  25054\n",
       "title                        6\n",
       "video                        6\n",
       "vote_average                 6\n",
       "vote_count                   6\n",
       "dtype: int64"
      ]
     },
     "execution_count": 6,
     "metadata": {},
     "output_type": "execute_result"
    }
   ],
   "source": [
    "df_movies_metadata.isna().sum()"
   ]
  },
  {
   "cell_type": "markdown",
   "metadata": {},
   "source": [
    "## Data Prepration"
   ]
  },
  {
   "cell_type": "markdown",
   "metadata": {},
   "source": [
    "## Cleaning of Data"
   ]
  },
  {
   "cell_type": "markdown",
   "metadata": {},
   "source": [
    "#### Dropping all the columns not required for the analysis"
   ]
  },
  {
   "cell_type": "code",
   "execution_count": 7,
   "metadata": {},
   "outputs": [],
   "source": [
    "df_movies_metadata.drop(['belongs_to_collection',\n",
    "                'homepage',\n",
    "                'overview',\n",
    "                'poster_path',\n",
    "                'tagline',\n",
    "                'video',\n",
    "                 ],\n",
    "                 axis = 1,inplace = True)"
   ]
  },
  {
   "cell_type": "code",
   "execution_count": 8,
   "metadata": {},
   "outputs": [],
   "source": [
    "#converting id column from object to integer\n",
    "df_movies_metadata['id'] = pd.to_numeric(df_movies_metadata['id'].str.replace(r'[^\\d%]',''))\n",
    "\n",
    "#converting budget column from object to float\n",
    "df_movies_metadata['budget'] = pd.to_numeric(df_movies_metadata['budget'].str.replace(r'[^\\d%]',''))\n",
    "df_movies_metadata['budget'] = df_movies_metadata.budget.astype(float)\n",
    "\n",
    "#deleting all the rows having dirty data on the basis of adult column\n",
    "cond = ['False' , 'True']\n",
    "df_movies_metadata = df_movies_metadata.drop(df_movies_metadata[~df_movies_metadata.adult.isin(cond)].index)\n",
    "\n",
    "#getting year and month of release\n",
    "df_movies_metadata['release_date'] = pd.to_datetime(df_movies_metadata['release_date'])\n",
    "\n",
    "df_movies_metadata['year_of_release'] = df_movies_metadata['release_date'].dt.year\n",
    "df_movies_metadata['month_of_release'] = df_movies_metadata['release_date'].dt.month"
   ]
  },
  {
   "cell_type": "markdown",
   "metadata": {},
   "source": [
    "#### let us remove all rows where the revenue and budget figures look unrealistic."
   ]
  },
  {
   "cell_type": "code",
   "execution_count": 9,
   "metadata": {},
   "outputs": [],
   "source": [
    "#dropping all the rows where 'budget' < 1000  \n",
    "df_movies_metadata.drop(df_movies_metadata[df_movies_metadata['budget'] < 1000].index, inplace = True)\n",
    "\n",
    "#dropping all the rows where 'revenue' < 1000  \n",
    "df_movies_metadata.drop(df_movies_metadata[df_movies_metadata['revenue'] < 1000].index, inplace = True)"
   ]
  },
  {
   "cell_type": "code",
   "execution_count": 10,
   "metadata": {},
   "outputs": [],
   "source": [
    "#removing all the movies that are not released.\n",
    "status = ['Rumored', 'Post Production']\n",
    "df_movies_metadata = df_movies_metadata.drop(df_movies_metadata[df_movies_metadata.status.isin(status)].index)"
   ]
  },
  {
   "cell_type": "code",
   "execution_count": 11,
   "metadata": {},
   "outputs": [],
   "source": [
    "#finding out the inflation adjusted figures of revenue and budget \n",
    "df_movies_metadata = pd.merge(df_movies_metadata, df_inflation, how='inner', left_on=['year_of_release'], right_on=['Year'])\n",
    "df_movies_metadata.drop(['Year'],axis =1, inplace = True)"
   ]
  },
  {
   "cell_type": "code",
   "execution_count": 12,
   "metadata": {},
   "outputs": [],
   "source": [
    "#getting inflation adjusted budget and revenue\n",
    "df_movies_metadata['inflation_adjusted_budget'] = df_movies_metadata['budget']*\\\n",
    "                                                  df_movies_metadata['Inflation_Adjustment_Factor']\n",
    "df_movies_metadata['inflation_adjusted_revenue'] = df_movies_metadata['revenue']*\\\n",
    "                                                   df_movies_metadata['Inflation_Adjustment_Factor']"
   ]
  },
  {
   "cell_type": "code",
   "execution_count": 13,
   "metadata": {},
   "outputs": [],
   "source": [
    "#runtime of movies set to mean of runtime where it is null\n",
    "df_movies_metadata.runtime = df_movies_metadata.runtime.fillna(round(df_movies_metadata.runtime.mean()))"
   ]
  },
  {
   "cell_type": "code",
   "execution_count": 14,
   "metadata": {},
   "outputs": [],
   "source": [
    "# find duplicate rows in df_movies_metadata on the basis of id (Movie ID) \n",
    "duplicateRowsMovie = df_movies_metadata[df_movies_metadata.duplicated(['id'])]\n",
    "#duplicateRowsMovie"
   ]
  },
  {
   "cell_type": "code",
   "execution_count": 15,
   "metadata": {},
   "outputs": [],
   "source": [
    "# remove duplicates\n",
    "df_movies_metadata.drop_duplicates(subset=['id'], inplace = True)"
   ]
  },
  {
   "cell_type": "markdown",
   "metadata": {},
   "source": [
    "#### How does clean data look like?"
   ]
  },
  {
   "cell_type": "code",
   "execution_count": 16,
   "metadata": {},
   "outputs": [
    {
     "data": {
      "text/plain": [
       "(5303, 23)"
      ]
     },
     "execution_count": 16,
     "metadata": {},
     "output_type": "execute_result"
    }
   ],
   "source": [
    "df_movies_metadata.shape"
   ]
  },
  {
   "cell_type": "markdown",
   "metadata": {},
   "source": [
    "#### Checking null values in the clean dataset"
   ]
  },
  {
   "cell_type": "code",
   "execution_count": 17,
   "metadata": {},
   "outputs": [
    {
     "data": {
      "text/plain": [
       "adult                          0\n",
       "budget                         0\n",
       "genres                         0\n",
       "id                             0\n",
       "imdb_id                        0\n",
       "original_language              0\n",
       "original_title                 0\n",
       "popularity                     0\n",
       "production_companies           0\n",
       "production_countries           0\n",
       "release_date                   0\n",
       "revenue                        0\n",
       "runtime                        0\n",
       "spoken_languages               0\n",
       "status                         0\n",
       "title                          0\n",
       "vote_average                   0\n",
       "vote_count                     0\n",
       "year_of_release                0\n",
       "month_of_release               0\n",
       "Inflation_Adjustment_Factor    0\n",
       "inflation_adjusted_budget      0\n",
       "inflation_adjusted_revenue     0\n",
       "dtype: int64"
      ]
     },
     "execution_count": 17,
     "metadata": {},
     "output_type": "execute_result"
    }
   ],
   "source": [
    "df_movies_metadata.isna().sum()"
   ]
  },
  {
   "cell_type": "markdown",
   "metadata": {},
   "source": [
    "## Ready for More Explotrary Data Analysis!!!"
   ]
  },
  {
   "cell_type": "markdown",
   "metadata": {},
   "source": [
    "### Data Manipulation & Feature Engineering"
   ]
  },
  {
   "cell_type": "code",
   "execution_count": 18,
   "metadata": {},
   "outputs": [],
   "source": [
    "# joining movie metadata dataset with credit dataset to get the cast and crew.\n",
    "df_cast_crew = pd.merge(df_movies_metadata[['id','inflation_adjusted_revenue']], df_credits, on='id', how='left')"
   ]
  },
  {
   "cell_type": "code",
   "execution_count": 19,
   "metadata": {},
   "outputs": [
    {
     "data": {
      "text/plain": [
       "(5308, 4)"
      ]
     },
     "execution_count": 19,
     "metadata": {},
     "output_type": "execute_result"
    }
   ],
   "source": [
    "#The dimensions of the dataset\n",
    "df_cast_crew.shape"
   ]
  },
  {
   "cell_type": "code",
   "execution_count": 20,
   "metadata": {},
   "outputs": [
    {
     "data": {
      "text/plain": [
       "(5, 4)"
      ]
     },
     "execution_count": 20,
     "metadata": {},
     "output_type": "execute_result"
    }
   ],
   "source": [
    "# find duplicate rows in df_cast_crew on the basis of id (Movie ID) \n",
    "duplicateRowsDF = df_cast_crew[df_cast_crew.duplicated(['id', 'inflation_adjusted_revenue'])]\n",
    "duplicateRowsDF.shape"
   ]
  },
  {
   "cell_type": "code",
   "execution_count": 21,
   "metadata": {},
   "outputs": [],
   "source": [
    "# remove duplicates\n",
    "df_cast_crew.drop_duplicates(subset=['id', 'inflation_adjusted_revenue'], inplace = True)"
   ]
  },
  {
   "cell_type": "code",
   "execution_count": 22,
   "metadata": {},
   "outputs": [
    {
     "data": {
      "text/plain": [
       "(5303, 4)"
      ]
     },
     "execution_count": 22,
     "metadata": {},
     "output_type": "execute_result"
    }
   ],
   "source": [
    "#once we have removed all the duplicates, the size of the dataset\n",
    "df_cast_crew.shape"
   ]
  },
  {
   "cell_type": "code",
   "execution_count": 23,
   "metadata": {},
   "outputs": [
    {
     "data": {
      "text/html": [
       "<div>\n",
       "<style scoped>\n",
       "    .dataframe tbody tr th:only-of-type {\n",
       "        vertical-align: middle;\n",
       "    }\n",
       "\n",
       "    .dataframe tbody tr th {\n",
       "        vertical-align: top;\n",
       "    }\n",
       "\n",
       "    .dataframe thead th {\n",
       "        text-align: right;\n",
       "    }\n",
       "</style>\n",
       "<table border=\"1\" class=\"dataframe\">\n",
       "  <thead>\n",
       "    <tr style=\"text-align: right;\">\n",
       "      <th></th>\n",
       "      <th>id</th>\n",
       "      <th>inflation_adjusted_revenue</th>\n",
       "      <th>cast</th>\n",
       "      <th>crew</th>\n",
       "    </tr>\n",
       "  </thead>\n",
       "  <tbody>\n",
       "    <tr>\n",
       "      <th>0</th>\n",
       "      <td>862</td>\n",
       "      <td>6.313063e+08</td>\n",
       "      <td>[{'cast_id': 14, 'character': 'Woody (voice)',...</td>\n",
       "      <td>[{'credit_id': '52fe4284c3a36847f8024f49', 'de...</td>\n",
       "    </tr>\n",
       "    <tr>\n",
       "      <th>1</th>\n",
       "      <td>8844</td>\n",
       "      <td>4.441274e+08</td>\n",
       "      <td>[{'cast_id': 1, 'character': 'Alan Parrish', '...</td>\n",
       "      <td>[{'credit_id': '52fe44bfc3a36847f80a7cd1', 'de...</td>\n",
       "    </tr>\n",
       "    <tr>\n",
       "      <th>2</th>\n",
       "      <td>31357</td>\n",
       "      <td>1.376541e+08</td>\n",
       "      <td>[{'cast_id': 1, 'character': \"Savannah 'Vannah...</td>\n",
       "      <td>[{'credit_id': '52fe44779251416c91011acb', 'de...</td>\n",
       "    </tr>\n",
       "    <tr>\n",
       "      <th>3</th>\n",
       "      <td>949</td>\n",
       "      <td>3.167682e+08</td>\n",
       "      <td>[{'cast_id': 25, 'character': 'Lt. Vincent Han...</td>\n",
       "      <td>[{'credit_id': '52fe4292c3a36847f802916d', 'de...</td>\n",
       "    </tr>\n",
       "    <tr>\n",
       "      <th>4</th>\n",
       "      <td>9091</td>\n",
       "      <td>1.087518e+08</td>\n",
       "      <td>[{'cast_id': 1, 'character': 'Darren Francis T...</td>\n",
       "      <td>[{'credit_id': '52fe44dbc3a36847f80ae0f1', 'de...</td>\n",
       "    </tr>\n",
       "  </tbody>\n",
       "</table>\n",
       "</div>"
      ],
      "text/plain": [
       "      id  inflation_adjusted_revenue  \\\n",
       "0    862                6.313063e+08   \n",
       "1   8844                4.441274e+08   \n",
       "2  31357                1.376541e+08   \n",
       "3    949                3.167682e+08   \n",
       "4   9091                1.087518e+08   \n",
       "\n",
       "                                                cast  \\\n",
       "0  [{'cast_id': 14, 'character': 'Woody (voice)',...   \n",
       "1  [{'cast_id': 1, 'character': 'Alan Parrish', '...   \n",
       "2  [{'cast_id': 1, 'character': \"Savannah 'Vannah...   \n",
       "3  [{'cast_id': 25, 'character': 'Lt. Vincent Han...   \n",
       "4  [{'cast_id': 1, 'character': 'Darren Francis T...   \n",
       "\n",
       "                                                crew  \n",
       "0  [{'credit_id': '52fe4284c3a36847f8024f49', 'de...  \n",
       "1  [{'credit_id': '52fe44bfc3a36847f80a7cd1', 'de...  \n",
       "2  [{'credit_id': '52fe44779251416c91011acb', 'de...  \n",
       "3  [{'credit_id': '52fe4292c3a36847f802916d', 'de...  \n",
       "4  [{'credit_id': '52fe44dbc3a36847f80ae0f1', 'de...  "
      ]
     },
     "execution_count": 23,
     "metadata": {},
     "output_type": "execute_result"
    }
   ],
   "source": [
    "df_cast_crew.head()"
   ]
  },
  {
   "cell_type": "markdown",
   "metadata": {},
   "source": [
    "#### getting a dataframe for normalized cast coulmn"
   ]
  },
  {
   "cell_type": "markdown",
   "metadata": {},
   "source": [
    "Since the data in the columns cast and crew is in normalized form, and for the further analysis I need to have the separate values of the cast and the crew."
   ]
  },
  {
   "cell_type": "code",
   "execution_count": 24,
   "metadata": {},
   "outputs": [],
   "source": [
    "df_cast_details = pd.DataFrame(df_cast_crew.cast.apply(ast.literal_eval).sum(),\n",
    "                               index=df_cast_crew.id.repeat\n",
    "                               (df_cast_crew.cast.apply(ast.literal_eval).str.len())\n",
    "                              ).fillna(0)"
   ]
  },
  {
   "cell_type": "code",
   "execution_count": 25,
   "metadata": {},
   "outputs": [],
   "source": [
    "df_cast_details.index.names = ['movie_id']\n",
    "df_cast_details.reset_index(inplace = True) "
   ]
  },
  {
   "cell_type": "code",
   "execution_count": 26,
   "metadata": {},
   "outputs": [],
   "source": [
    "df_cast_details.drop(['cast_id','credit_id','profile_path'], axis = 1, inplace = True)"
   ]
  },
  {
   "cell_type": "code",
   "execution_count": 27,
   "metadata": {},
   "outputs": [],
   "source": [
    "df_cast_details = pd.merge(df_cast_details, df_cast_crew[['id','inflation_adjusted_revenue']],\n",
    "                           left_on=['movie_id'], right_on=['id'], how='inner')"
   ]
  },
  {
   "cell_type": "code",
   "execution_count": 28,
   "metadata": {},
   "outputs": [],
   "source": [
    "df_cast_details.drop(['id_y'], axis = 1, inplace = True)"
   ]
  },
  {
   "cell_type": "code",
   "execution_count": 29,
   "metadata": {},
   "outputs": [
    {
     "data": {
      "text/html": [
       "<div>\n",
       "<style scoped>\n",
       "    .dataframe tbody tr th:only-of-type {\n",
       "        vertical-align: middle;\n",
       "    }\n",
       "\n",
       "    .dataframe tbody tr th {\n",
       "        vertical-align: top;\n",
       "    }\n",
       "\n",
       "    .dataframe thead th {\n",
       "        text-align: right;\n",
       "    }\n",
       "</style>\n",
       "<table border=\"1\" class=\"dataframe\">\n",
       "  <thead>\n",
       "    <tr style=\"text-align: right;\">\n",
       "      <th></th>\n",
       "      <th>actor_id</th>\n",
       "      <th>count_of_movies</th>\n",
       "      <th>revenue_of_movies</th>\n",
       "      <th>mean_rev_of_actors</th>\n",
       "    </tr>\n",
       "  </thead>\n",
       "  <tbody>\n",
       "    <tr>\n",
       "      <th>0</th>\n",
       "      <td>2231</td>\n",
       "      <td>70</td>\n",
       "      <td>2.224164e+10</td>\n",
       "      <td>3.177377e+08</td>\n",
       "    </tr>\n",
       "    <tr>\n",
       "      <th>1</th>\n",
       "      <td>380</td>\n",
       "      <td>61</td>\n",
       "      <td>8.598149e+09</td>\n",
       "      <td>1.409533e+08</td>\n",
       "    </tr>\n",
       "    <tr>\n",
       "      <th>2</th>\n",
       "      <td>62</td>\n",
       "      <td>60</td>\n",
       "      <td>1.220523e+10</td>\n",
       "      <td>2.034205e+08</td>\n",
       "    </tr>\n",
       "    <tr>\n",
       "      <th>3</th>\n",
       "      <td>192</td>\n",
       "      <td>55</td>\n",
       "      <td>1.235748e+10</td>\n",
       "      <td>2.246815e+08</td>\n",
       "    </tr>\n",
       "    <tr>\n",
       "      <th>4</th>\n",
       "      <td>1892</td>\n",
       "      <td>50</td>\n",
       "      <td>1.019863e+10</td>\n",
       "      <td>2.039726e+08</td>\n",
       "    </tr>\n",
       "  </tbody>\n",
       "</table>\n",
       "</div>"
      ],
      "text/plain": [
       "   actor_id  count_of_movies  revenue_of_movies  mean_rev_of_actors\n",
       "0      2231               70       2.224164e+10        3.177377e+08\n",
       "1       380               61       8.598149e+09        1.409533e+08\n",
       "2        62               60       1.220523e+10        2.034205e+08\n",
       "3       192               55       1.235748e+10        2.246815e+08\n",
       "4      1892               50       1.019863e+10        2.039726e+08"
      ]
     },
     "execution_count": 29,
     "metadata": {},
     "output_type": "execute_result"
    }
   ],
   "source": [
    "df_actor = pd.DataFrame()\n",
    "df_actor['count_of_movies'] = df_cast_details['id_x'].value_counts()\n",
    "df_actor['revenue_of_movies'] = df_cast_details.groupby('id_x').sum()[['inflation_adjusted_revenue']]\n",
    "df_actor['mean_rev_of_actors'] = df_actor['revenue_of_movies']/df_actor['count_of_movies']\n",
    "df_actor.index.names = ['actor_id']\n",
    "df_actor.reset_index(inplace = True) \n",
    "df_actor.head()"
   ]
  },
  {
   "cell_type": "code",
   "execution_count": 30,
   "metadata": {},
   "outputs": [],
   "source": [
    "df_cast = pd.merge(df_cast_details, df_actor[['actor_id', 'mean_rev_of_actors']],\n",
    "                           left_on = ['id_x'], right_on = ['actor_id'], how = 'inner')"
   ]
  },
  {
   "cell_type": "code",
   "execution_count": 31,
   "metadata": {},
   "outputs": [],
   "source": [
    "# drop gender and character\n",
    "df_cast.drop(['gender', 'id_x', 'character'], axis = 1, inplace = True)"
   ]
  },
  {
   "cell_type": "code",
   "execution_count": 32,
   "metadata": {},
   "outputs": [],
   "source": [
    "df_Avg_Rev_of_all_actors = pd.DataFrame()\n",
    "df_Avg_Rev_of_all_actors['total_of_avg_rev_of_actors'] = df_cast.groupby('movie_id').sum()['mean_rev_of_actors']\n",
    "df_Avg_Rev_of_all_actors['number_of_actors_in_movie'] = df_cast.groupby('movie_id').count()['actor_id']\n",
    "df_Avg_Rev_of_all_actors['avg_rev_of_all_actors_movie'] = df_Avg_Rev_of_all_actors['total_of_avg_rev_of_actors']\\\n",
    "                                                        /df_Avg_Rev_of_all_actors['number_of_actors_in_movie']\n",
    "df_Avg_Rev_of_all_actors.reset_index(inplace = True) "
   ]
  },
  {
   "cell_type": "markdown",
   "metadata": {},
   "source": [
    "#### getting dataframe for normalized crew column"
   ]
  },
  {
   "cell_type": "code",
   "execution_count": 33,
   "metadata": {},
   "outputs": [],
   "source": [
    "df_crew_details = pd.DataFrame(df_cast_crew.crew.apply(ast.literal_eval).sum(),\n",
    "                               index=df_cast_crew.id.repeat\n",
    "                               (df_cast_crew.crew.apply(ast.literal_eval).str.len())\n",
    "                              ).fillna(0)"
   ]
  },
  {
   "cell_type": "code",
   "execution_count": 34,
   "metadata": {},
   "outputs": [],
   "source": [
    "df_crew_details.index.names = ['movie_id']\n",
    "df_crew_details.reset_index(inplace = True) "
   ]
  },
  {
   "cell_type": "code",
   "execution_count": 35,
   "metadata": {},
   "outputs": [],
   "source": [
    "df_crew = pd.merge(df_crew_details,df_cast_crew[['id','inflation_adjusted_revenue']],\n",
    "                           left_on=['movie_id'], right_on=['id'], how='inner')"
   ]
  },
  {
   "cell_type": "markdown",
   "metadata": {},
   "source": [
    "### Extracting Director's data"
   ]
  },
  {
   "cell_type": "code",
   "execution_count": 36,
   "metadata": {},
   "outputs": [],
   "source": [
    "cond = ['Director']\n",
    "df_director = df_crew.drop(df_crew[~df_crew.job.isin(cond)].index)"
   ]
  },
  {
   "cell_type": "code",
   "execution_count": 37,
   "metadata": {},
   "outputs": [],
   "source": [
    "df_director.drop(['department',\n",
    "                     'credit_id',\n",
    "                     'profile_path',\n",
    "                     'gender',\n",
    "                     'id_y'\n",
    "                     ],\n",
    "                 axis = 1,inplace = True)"
   ]
  },
  {
   "cell_type": "code",
   "execution_count": 38,
   "metadata": {},
   "outputs": [
    {
     "data": {
      "text/html": [
       "<div>\n",
       "<style scoped>\n",
       "    .dataframe tbody tr th:only-of-type {\n",
       "        vertical-align: middle;\n",
       "    }\n",
       "\n",
       "    .dataframe tbody tr th {\n",
       "        vertical-align: top;\n",
       "    }\n",
       "\n",
       "    .dataframe thead th {\n",
       "        text-align: right;\n",
       "    }\n",
       "</style>\n",
       "<table border=\"1\" class=\"dataframe\">\n",
       "  <thead>\n",
       "    <tr style=\"text-align: right;\">\n",
       "      <th></th>\n",
       "      <th>director_id</th>\n",
       "      <th>count_of_movies</th>\n",
       "      <th>revenue_of_movies</th>\n",
       "      <th>mean_rev_of_director</th>\n",
       "    </tr>\n",
       "  </thead>\n",
       "  <tbody>\n",
       "    <tr>\n",
       "      <th>0</th>\n",
       "      <td>488</td>\n",
       "      <td>30</td>\n",
       "      <td>1.831686e+10</td>\n",
       "      <td>6.105619e+08</td>\n",
       "    </tr>\n",
       "    <tr>\n",
       "      <th>1</th>\n",
       "      <td>190</td>\n",
       "      <td>27</td>\n",
       "      <td>4.552575e+09</td>\n",
       "      <td>1.686139e+08</td>\n",
       "    </tr>\n",
       "    <tr>\n",
       "      <th>2</th>\n",
       "      <td>1243</td>\n",
       "      <td>24</td>\n",
       "      <td>1.632385e+09</td>\n",
       "      <td>6.801604e+07</td>\n",
       "    </tr>\n",
       "    <tr>\n",
       "      <th>3</th>\n",
       "      <td>578</td>\n",
       "      <td>23</td>\n",
       "      <td>5.274236e+09</td>\n",
       "      <td>2.293146e+08</td>\n",
       "    </tr>\n",
       "    <tr>\n",
       "      <th>4</th>\n",
       "      <td>2636</td>\n",
       "      <td>21</td>\n",
       "      <td>2.415913e+09</td>\n",
       "      <td>1.150435e+08</td>\n",
       "    </tr>\n",
       "  </tbody>\n",
       "</table>\n",
       "</div>"
      ],
      "text/plain": [
       "   director_id  count_of_movies  revenue_of_movies  mean_rev_of_director\n",
       "0          488               30       1.831686e+10          6.105619e+08\n",
       "1          190               27       4.552575e+09          1.686139e+08\n",
       "2         1243               24       1.632385e+09          6.801604e+07\n",
       "3          578               23       5.274236e+09          2.293146e+08\n",
       "4         2636               21       2.415913e+09          1.150435e+08"
      ]
     },
     "execution_count": 38,
     "metadata": {},
     "output_type": "execute_result"
    }
   ],
   "source": [
    "df_director_with_Rev = pd.DataFrame()\n",
    "df_director_with_Rev['count_of_movies'] = df_director['id_x'].value_counts()\n",
    "df_director_with_Rev['revenue_of_movies'] = df_director.groupby('id_x').sum()[['inflation_adjusted_revenue']]\n",
    "df_director_with_Rev['mean_rev_of_director'] = df_director_with_Rev['revenue_of_movies'] \\\n",
    "                                             /df_director_with_Rev['count_of_movies']\n",
    "df_director_with_Rev.index.names = ['director_id']\n",
    "df_director_with_Rev.reset_index(inplace = True) \n",
    "df_director_with_Rev.head()"
   ]
  },
  {
   "cell_type": "code",
   "execution_count": 39,
   "metadata": {},
   "outputs": [],
   "source": [
    "df_crew_director = pd.merge(df_director, df_director_with_Rev[['director_id', 'mean_rev_of_director']],\n",
    "                           left_on = ['id_x'], right_on = ['director_id'], how ='inner')"
   ]
  },
  {
   "cell_type": "code",
   "execution_count": 40,
   "metadata": {},
   "outputs": [],
   "source": [
    "df_crew_director.drop(['job',\n",
    "                       'id_x'\n",
    "                      ],\n",
    "                 axis = 1,inplace = True)"
   ]
  },
  {
   "cell_type": "code",
   "execution_count": 41,
   "metadata": {},
   "outputs": [
    {
     "data": {
      "text/html": [
       "<div>\n",
       "<style scoped>\n",
       "    .dataframe tbody tr th:only-of-type {\n",
       "        vertical-align: middle;\n",
       "    }\n",
       "\n",
       "    .dataframe tbody tr th {\n",
       "        vertical-align: top;\n",
       "    }\n",
       "\n",
       "    .dataframe thead th {\n",
       "        text-align: right;\n",
       "    }\n",
       "</style>\n",
       "<table border=\"1\" class=\"dataframe\">\n",
       "  <thead>\n",
       "    <tr style=\"text-align: right;\">\n",
       "      <th></th>\n",
       "      <th>movie_id</th>\n",
       "      <th>name</th>\n",
       "      <th>inflation_adjusted_revenue</th>\n",
       "      <th>director_id</th>\n",
       "      <th>mean_rev_of_director</th>\n",
       "    </tr>\n",
       "  </thead>\n",
       "  <tbody>\n",
       "    <tr>\n",
       "      <th>0</th>\n",
       "      <td>862</td>\n",
       "      <td>John Lasseter</td>\n",
       "      <td>6.313063e+08</td>\n",
       "      <td>7879</td>\n",
       "      <td>6.422685e+08</td>\n",
       "    </tr>\n",
       "    <tr>\n",
       "      <th>1</th>\n",
       "      <td>9487</td>\n",
       "      <td>John Lasseter</td>\n",
       "      <td>5.739490e+08</td>\n",
       "      <td>7879</td>\n",
       "      <td>6.422685e+08</td>\n",
       "    </tr>\n",
       "    <tr>\n",
       "      <th>2</th>\n",
       "      <td>863</td>\n",
       "      <td>John Lasseter</td>\n",
       "      <td>7.709186e+08</td>\n",
       "      <td>7879</td>\n",
       "      <td>6.422685e+08</td>\n",
       "    </tr>\n",
       "    <tr>\n",
       "      <th>3</th>\n",
       "      <td>920</td>\n",
       "      <td>John Lasseter</td>\n",
       "      <td>5.913384e+08</td>\n",
       "      <td>7879</td>\n",
       "      <td>6.422685e+08</td>\n",
       "    </tr>\n",
       "    <tr>\n",
       "      <th>4</th>\n",
       "      <td>49013</td>\n",
       "      <td>John Lasseter</td>\n",
       "      <td>6.438303e+08</td>\n",
       "      <td>7879</td>\n",
       "      <td>6.422685e+08</td>\n",
       "    </tr>\n",
       "  </tbody>\n",
       "</table>\n",
       "</div>"
      ],
      "text/plain": [
       "   movie_id           name  inflation_adjusted_revenue  director_id  \\\n",
       "0       862  John Lasseter                6.313063e+08         7879   \n",
       "1      9487  John Lasseter                5.739490e+08         7879   \n",
       "2       863  John Lasseter                7.709186e+08         7879   \n",
       "3       920  John Lasseter                5.913384e+08         7879   \n",
       "4     49013  John Lasseter                6.438303e+08         7879   \n",
       "\n",
       "   mean_rev_of_director  \n",
       "0          6.422685e+08  \n",
       "1          6.422685e+08  \n",
       "2          6.422685e+08  \n",
       "3          6.422685e+08  \n",
       "4          6.422685e+08  "
      ]
     },
     "execution_count": 41,
     "metadata": {},
     "output_type": "execute_result"
    }
   ],
   "source": [
    "df_crew_director.head()"
   ]
  },
  {
   "cell_type": "code",
   "execution_count": 42,
   "metadata": {},
   "outputs": [],
   "source": [
    "df_Avg_Rev_of_all_directors = pd.DataFrame()\n",
    "df_Avg_Rev_of_all_directors['total_of_avg_rev_of_directors'] = df_crew_director.groupby('movie_id').\\\n",
    "                                                                       sum()['mean_rev_of_director']\n",
    "df_Avg_Rev_of_all_directors['number_of_directors_in_movie'] = df_crew_director.groupby('movie_id').count()['director_id']\n",
    "df_Avg_Rev_of_all_directors['avg_rev_of_all_directors_movie'] = df_Avg_Rev_of_all_directors['total_of_avg_rev_of_directors']\\\n",
    "                                                            /df_Avg_Rev_of_all_directors['number_of_directors_in_movie']\n",
    "df_Avg_Rev_of_all_directors.reset_index(inplace = True) "
   ]
  },
  {
   "cell_type": "code",
   "execution_count": 43,
   "metadata": {},
   "outputs": [
    {
     "data": {
      "text/html": [
       "<div>\n",
       "<style scoped>\n",
       "    .dataframe tbody tr th:only-of-type {\n",
       "        vertical-align: middle;\n",
       "    }\n",
       "\n",
       "    .dataframe tbody tr th {\n",
       "        vertical-align: top;\n",
       "    }\n",
       "\n",
       "    .dataframe thead th {\n",
       "        text-align: right;\n",
       "    }\n",
       "</style>\n",
       "<table border=\"1\" class=\"dataframe\">\n",
       "  <thead>\n",
       "    <tr style=\"text-align: right;\">\n",
       "      <th></th>\n",
       "      <th>movie_id</th>\n",
       "      <th>total_of_avg_rev_of_directors</th>\n",
       "      <th>number_of_directors_in_movie</th>\n",
       "      <th>avg_rev_of_all_directors_movie</th>\n",
       "    </tr>\n",
       "  </thead>\n",
       "  <tbody>\n",
       "    <tr>\n",
       "      <th>0</th>\n",
       "      <td>5</td>\n",
       "      <td>3.069775e+08</td>\n",
       "      <td>4</td>\n",
       "      <td>7.674437e+07</td>\n",
       "    </tr>\n",
       "    <tr>\n",
       "      <th>1</th>\n",
       "      <td>11</td>\n",
       "      <td>1.269242e+09</td>\n",
       "      <td>1</td>\n",
       "      <td>1.269242e+09</td>\n",
       "    </tr>\n",
       "    <tr>\n",
       "      <th>2</th>\n",
       "      <td>12</td>\n",
       "      <td>8.402127e+08</td>\n",
       "      <td>1</td>\n",
       "      <td>8.402127e+08</td>\n",
       "    </tr>\n",
       "    <tr>\n",
       "      <th>3</th>\n",
       "      <td>13</td>\n",
       "      <td>4.171801e+08</td>\n",
       "      <td>1</td>\n",
       "      <td>4.171801e+08</td>\n",
       "    </tr>\n",
       "    <tr>\n",
       "      <th>4</th>\n",
       "      <td>14</td>\n",
       "      <td>4.640943e+08</td>\n",
       "      <td>1</td>\n",
       "      <td>4.640943e+08</td>\n",
       "    </tr>\n",
       "  </tbody>\n",
       "</table>\n",
       "</div>"
      ],
      "text/plain": [
       "   movie_id  total_of_avg_rev_of_directors  number_of_directors_in_movie  \\\n",
       "0         5                   3.069775e+08                             4   \n",
       "1        11                   1.269242e+09                             1   \n",
       "2        12                   8.402127e+08                             1   \n",
       "3        13                   4.171801e+08                             1   \n",
       "4        14                   4.640943e+08                             1   \n",
       "\n",
       "   avg_rev_of_all_directors_movie  \n",
       "0                    7.674437e+07  \n",
       "1                    1.269242e+09  \n",
       "2                    8.402127e+08  \n",
       "3                    4.171801e+08  \n",
       "4                    4.640943e+08  "
      ]
     },
     "execution_count": 43,
     "metadata": {},
     "output_type": "execute_result"
    }
   ],
   "source": [
    "df_Avg_Rev_of_all_directors.head()"
   ]
  },
  {
   "cell_type": "markdown",
   "metadata": {},
   "source": [
    "### Extracting data for production companies"
   ]
  },
  {
   "cell_type": "code",
   "execution_count": 44,
   "metadata": {},
   "outputs": [],
   "source": [
    "df_production_details = pd.DataFrame()\n",
    "df_production_details = pd.DataFrame(df_movies_metadata.production_companies.apply(ast.literal_eval).sum(),\n",
    "                               index=df_movies_metadata.id.repeat\n",
    "                               (df_movies_metadata.production_companies.apply(ast.literal_eval).str.len())\n",
    "                              ).fillna(0)"
   ]
  },
  {
   "cell_type": "code",
   "execution_count": 45,
   "metadata": {},
   "outputs": [],
   "source": [
    "df_production_details = df_production_details.rename(columns={'id': 'production_id'})\n",
    "df_production_details = df_production_details.reset_index()\n",
    "df_production_details = df_production_details.rename(columns={'id': 'movie_id','name': 'production_company'})"
   ]
  },
  {
   "cell_type": "code",
   "execution_count": 46,
   "metadata": {},
   "outputs": [],
   "source": [
    "df_production = pd.merge(df_production_details, df_cast_crew[['id','inflation_adjusted_revenue']],\n",
    "                           left_on = ['movie_id'], right_on = ['id'], how = 'inner')"
   ]
  },
  {
   "cell_type": "code",
   "execution_count": 47,
   "metadata": {},
   "outputs": [
    {
     "data": {
      "text/html": [
       "<div>\n",
       "<style scoped>\n",
       "    .dataframe tbody tr th:only-of-type {\n",
       "        vertical-align: middle;\n",
       "    }\n",
       "\n",
       "    .dataframe tbody tr th {\n",
       "        vertical-align: top;\n",
       "    }\n",
       "\n",
       "    .dataframe thead th {\n",
       "        text-align: right;\n",
       "    }\n",
       "</style>\n",
       "<table border=\"1\" class=\"dataframe\">\n",
       "  <thead>\n",
       "    <tr style=\"text-align: right;\">\n",
       "      <th></th>\n",
       "      <th>production_id</th>\n",
       "      <th>count_of_movies</th>\n",
       "      <th>revenue_of_movies</th>\n",
       "      <th>mean_rev_of_production</th>\n",
       "    </tr>\n",
       "  </thead>\n",
       "  <tbody>\n",
       "    <tr>\n",
       "      <th>0</th>\n",
       "      <td>6194</td>\n",
       "      <td>416</td>\n",
       "      <td>9.315855e+10</td>\n",
       "      <td>2.239388e+08</td>\n",
       "    </tr>\n",
       "    <tr>\n",
       "      <th>1</th>\n",
       "      <td>33</td>\n",
       "      <td>385</td>\n",
       "      <td>8.057868e+10</td>\n",
       "      <td>2.092953e+08</td>\n",
       "    </tr>\n",
       "    <tr>\n",
       "      <th>2</th>\n",
       "      <td>4</td>\n",
       "      <td>335</td>\n",
       "      <td>7.672247e+10</td>\n",
       "      <td>2.290223e+08</td>\n",
       "    </tr>\n",
       "    <tr>\n",
       "      <th>3</th>\n",
       "      <td>306</td>\n",
       "      <td>295</td>\n",
       "      <td>7.759807e+10</td>\n",
       "      <td>2.630443e+08</td>\n",
       "    </tr>\n",
       "    <tr>\n",
       "      <th>4</th>\n",
       "      <td>5</td>\n",
       "      <td>210</td>\n",
       "      <td>4.106314e+10</td>\n",
       "      <td>1.955387e+08</td>\n",
       "    </tr>\n",
       "  </tbody>\n",
       "</table>\n",
       "</div>"
      ],
      "text/plain": [
       "   production_id  count_of_movies  revenue_of_movies  mean_rev_of_production\n",
       "0           6194              416       9.315855e+10            2.239388e+08\n",
       "1             33              385       8.057868e+10            2.092953e+08\n",
       "2              4              335       7.672247e+10            2.290223e+08\n",
       "3            306              295       7.759807e+10            2.630443e+08\n",
       "4              5              210       4.106314e+10            1.955387e+08"
      ]
     },
     "execution_count": 47,
     "metadata": {},
     "output_type": "execute_result"
    }
   ],
   "source": [
    "df_production_with_Rev = pd.DataFrame()\n",
    "df_production_with_Rev['count_of_movies'] = df_production['production_id'].value_counts()\n",
    "df_production_with_Rev['revenue_of_movies'] = df_production.groupby('production_id').sum()[['inflation_adjusted_revenue']]\n",
    "df_production_with_Rev['mean_rev_of_production'] = df_production_with_Rev['revenue_of_movies'] \\\n",
    "                                             /df_production_with_Rev['count_of_movies']\n",
    "df_production_with_Rev.index.names = ['production_id']\n",
    "df_production_with_Rev.reset_index(inplace = True) \n",
    "df_production_with_Rev.head()"
   ]
  },
  {
   "cell_type": "code",
   "execution_count": 48,
   "metadata": {},
   "outputs": [],
   "source": [
    "df_producer = pd.merge(df_production,df_production_with_Rev[['production_id', 'mean_rev_of_production']],\n",
    "                           on=['production_id'], how='inner')"
   ]
  },
  {
   "cell_type": "code",
   "execution_count": 49,
   "metadata": {},
   "outputs": [
    {
     "data": {
      "text/html": [
       "<div>\n",
       "<style scoped>\n",
       "    .dataframe tbody tr th:only-of-type {\n",
       "        vertical-align: middle;\n",
       "    }\n",
       "\n",
       "    .dataframe tbody tr th {\n",
       "        vertical-align: top;\n",
       "    }\n",
       "\n",
       "    .dataframe thead th {\n",
       "        text-align: right;\n",
       "    }\n",
       "</style>\n",
       "<table border=\"1\" class=\"dataframe\">\n",
       "  <thead>\n",
       "    <tr style=\"text-align: right;\">\n",
       "      <th></th>\n",
       "      <th>movie_id</th>\n",
       "      <th>production_id</th>\n",
       "      <th>production_company</th>\n",
       "      <th>id</th>\n",
       "      <th>inflation_adjusted_revenue</th>\n",
       "      <th>mean_rev_of_production</th>\n",
       "    </tr>\n",
       "  </thead>\n",
       "  <tbody>\n",
       "    <tr>\n",
       "      <th>0</th>\n",
       "      <td>862</td>\n",
       "      <td>3</td>\n",
       "      <td>Pixar Animation Studios</td>\n",
       "      <td>862</td>\n",
       "      <td>6.313063e+08</td>\n",
       "      <td>7.749217e+08</td>\n",
       "    </tr>\n",
       "    <tr>\n",
       "      <th>1</th>\n",
       "      <td>9487</td>\n",
       "      <td>3</td>\n",
       "      <td>Pixar Animation Studios</td>\n",
       "      <td>9487</td>\n",
       "      <td>5.739490e+08</td>\n",
       "      <td>7.749217e+08</td>\n",
       "    </tr>\n",
       "    <tr>\n",
       "      <th>2</th>\n",
       "      <td>863</td>\n",
       "      <td>3</td>\n",
       "      <td>Pixar Animation Studios</td>\n",
       "      <td>863</td>\n",
       "      <td>7.709186e+08</td>\n",
       "      <td>7.749217e+08</td>\n",
       "    </tr>\n",
       "    <tr>\n",
       "      <th>3</th>\n",
       "      <td>585</td>\n",
       "      <td>3</td>\n",
       "      <td>Pixar Animation Studios</td>\n",
       "      <td>585</td>\n",
       "      <td>8.217117e+08</td>\n",
       "      <td>7.749217e+08</td>\n",
       "    </tr>\n",
       "    <tr>\n",
       "      <th>4</th>\n",
       "      <td>62211</td>\n",
       "      <td>3</td>\n",
       "      <td>Pixar Animation Studios</td>\n",
       "      <td>62211</td>\n",
       "      <td>8.253512e+08</td>\n",
       "      <td>7.749217e+08</td>\n",
       "    </tr>\n",
       "  </tbody>\n",
       "</table>\n",
       "</div>"
      ],
      "text/plain": [
       "   movie_id  production_id       production_company     id  \\\n",
       "0       862              3  Pixar Animation Studios    862   \n",
       "1      9487              3  Pixar Animation Studios   9487   \n",
       "2       863              3  Pixar Animation Studios    863   \n",
       "3       585              3  Pixar Animation Studios    585   \n",
       "4     62211              3  Pixar Animation Studios  62211   \n",
       "\n",
       "   inflation_adjusted_revenue  mean_rev_of_production  \n",
       "0                6.313063e+08            7.749217e+08  \n",
       "1                5.739490e+08            7.749217e+08  \n",
       "2                7.709186e+08            7.749217e+08  \n",
       "3                8.217117e+08            7.749217e+08  \n",
       "4                8.253512e+08            7.749217e+08  "
      ]
     },
     "execution_count": 49,
     "metadata": {},
     "output_type": "execute_result"
    }
   ],
   "source": [
    "df_producer.head()"
   ]
  },
  {
   "cell_type": "code",
   "execution_count": 50,
   "metadata": {},
   "outputs": [],
   "source": [
    "df_Avg_Rev_of_all_producers = pd.DataFrame()\n",
    "df_Avg_Rev_of_all_producers['total_of_avg_rev_of_producers'] = df_producer.groupby('movie_id').\\\n",
    "                                                                       sum()['mean_rev_of_production']\n",
    "df_Avg_Rev_of_all_producers['number_of_producers_in_movie'] = df_producer.groupby('movie_id').count()['production_id']\n",
    "df_Avg_Rev_of_all_producers['avg_rev_of_all_producers_movie'] = df_Avg_Rev_of_all_producers['total_of_avg_rev_of_producers']\\\n",
    "                                                            /df_Avg_Rev_of_all_producers['number_of_producers_in_movie']\n",
    "df_Avg_Rev_of_all_producers.reset_index(inplace = True) "
   ]
  },
  {
   "cell_type": "markdown",
   "metadata": {},
   "source": [
    "### Getting Genre Data"
   ]
  },
  {
   "cell_type": "code",
   "execution_count": 51,
   "metadata": {},
   "outputs": [],
   "source": [
    "df_genres_details = pd.DataFrame(df_movies_metadata.genres.apply(ast.literal_eval).sum(),\n",
    "                               index=df_movies_metadata.id.repeat\n",
    "                               (df_movies_metadata.genres.apply(ast.literal_eval).str.len())\n",
    "                              ).fillna(0)\n",
    "\n",
    "df_genres_details = df_genres_details.rename(columns={'id': 'genre_id'})\n",
    "df_genres_details = df_genres_details.reset_index()\n",
    "df_genres_details = df_genres_details.rename(columns={'id': 'movie_id', 'name': 'genre'})\n",
    "df_genres_details = df_genres_details.drop('genre_id', axis = 1)"
   ]
  },
  {
   "cell_type": "code",
   "execution_count": 52,
   "metadata": {},
   "outputs": [
    {
     "data": {
      "text/html": [
       "<div>\n",
       "<style scoped>\n",
       "    .dataframe tbody tr th:only-of-type {\n",
       "        vertical-align: middle;\n",
       "    }\n",
       "\n",
       "    .dataframe tbody tr th {\n",
       "        vertical-align: top;\n",
       "    }\n",
       "\n",
       "    .dataframe thead th {\n",
       "        text-align: right;\n",
       "    }\n",
       "</style>\n",
       "<table border=\"1\" class=\"dataframe\">\n",
       "  <thead>\n",
       "    <tr style=\"text-align: right;\">\n",
       "      <th></th>\n",
       "      <th>movie_id</th>\n",
       "      <th>genre</th>\n",
       "    </tr>\n",
       "  </thead>\n",
       "  <tbody>\n",
       "    <tr>\n",
       "      <th>0</th>\n",
       "      <td>862</td>\n",
       "      <td>Animation</td>\n",
       "    </tr>\n",
       "    <tr>\n",
       "      <th>1</th>\n",
       "      <td>862</td>\n",
       "      <td>Comedy</td>\n",
       "    </tr>\n",
       "    <tr>\n",
       "      <th>2</th>\n",
       "      <td>862</td>\n",
       "      <td>Family</td>\n",
       "    </tr>\n",
       "    <tr>\n",
       "      <th>3</th>\n",
       "      <td>8844</td>\n",
       "      <td>Adventure</td>\n",
       "    </tr>\n",
       "    <tr>\n",
       "      <th>4</th>\n",
       "      <td>8844</td>\n",
       "      <td>Fantasy</td>\n",
       "    </tr>\n",
       "  </tbody>\n",
       "</table>\n",
       "</div>"
      ],
      "text/plain": [
       "   movie_id      genre\n",
       "0       862  Animation\n",
       "1       862     Comedy\n",
       "2       862     Family\n",
       "3      8844  Adventure\n",
       "4      8844    Fantasy"
      ]
     },
     "execution_count": 52,
     "metadata": {},
     "output_type": "execute_result"
    }
   ],
   "source": [
    "df_genres_details.head()"
   ]
  },
  {
   "cell_type": "markdown",
   "metadata": {},
   "source": [
    "As we could see, there are more than one genre present and this is creating multiple rows for one one movie.To resolve this issue, I decided to get this data into dummy form and so for each movie we will have just one row highlighting only those genres which are available for that movie."
   ]
  },
  {
   "cell_type": "markdown",
   "metadata": {},
   "source": [
    "#### Getting dummy data for genre as multiple genres are available for one movie"
   ]
  },
  {
   "cell_type": "code",
   "execution_count": 53,
   "metadata": {
    "scrolled": true
   },
   "outputs": [],
   "source": [
    "dummies = pd.get_dummies(df_genres_details, columns=['genre'])\n",
    "#dummies.head()"
   ]
  },
  {
   "cell_type": "code",
   "execution_count": 54,
   "metadata": {},
   "outputs": [
    {
     "data": {
      "text/html": [
       "<div>\n",
       "<style scoped>\n",
       "    .dataframe tbody tr th:only-of-type {\n",
       "        vertical-align: middle;\n",
       "    }\n",
       "\n",
       "    .dataframe tbody tr th {\n",
       "        vertical-align: top;\n",
       "    }\n",
       "\n",
       "    .dataframe thead th {\n",
       "        text-align: right;\n",
       "    }\n",
       "</style>\n",
       "<table border=\"1\" class=\"dataframe\">\n",
       "  <thead>\n",
       "    <tr style=\"text-align: right;\">\n",
       "      <th></th>\n",
       "      <th>movie_id</th>\n",
       "      <th>genre_Action</th>\n",
       "      <th>genre_Adventure</th>\n",
       "      <th>genre_Animation</th>\n",
       "      <th>genre_Comedy</th>\n",
       "      <th>genre_Crime</th>\n",
       "      <th>genre_Documentary</th>\n",
       "      <th>genre_Drama</th>\n",
       "      <th>genre_Family</th>\n",
       "      <th>genre_Fantasy</th>\n",
       "      <th>...</th>\n",
       "      <th>genre_History</th>\n",
       "      <th>genre_Horror</th>\n",
       "      <th>genre_Music</th>\n",
       "      <th>genre_Mystery</th>\n",
       "      <th>genre_Romance</th>\n",
       "      <th>genre_Science Fiction</th>\n",
       "      <th>genre_TV Movie</th>\n",
       "      <th>genre_Thriller</th>\n",
       "      <th>genre_War</th>\n",
       "      <th>genre_Western</th>\n",
       "    </tr>\n",
       "  </thead>\n",
       "  <tbody>\n",
       "    <tr>\n",
       "      <th>0</th>\n",
       "      <td>5</td>\n",
       "      <td>0</td>\n",
       "      <td>0</td>\n",
       "      <td>0</td>\n",
       "      <td>1</td>\n",
       "      <td>1</td>\n",
       "      <td>0</td>\n",
       "      <td>0</td>\n",
       "      <td>0</td>\n",
       "      <td>0</td>\n",
       "      <td>...</td>\n",
       "      <td>0</td>\n",
       "      <td>0</td>\n",
       "      <td>0</td>\n",
       "      <td>0</td>\n",
       "      <td>0</td>\n",
       "      <td>0</td>\n",
       "      <td>0</td>\n",
       "      <td>0</td>\n",
       "      <td>0</td>\n",
       "      <td>0</td>\n",
       "    </tr>\n",
       "    <tr>\n",
       "      <th>1</th>\n",
       "      <td>11</td>\n",
       "      <td>1</td>\n",
       "      <td>1</td>\n",
       "      <td>0</td>\n",
       "      <td>0</td>\n",
       "      <td>0</td>\n",
       "      <td>0</td>\n",
       "      <td>0</td>\n",
       "      <td>0</td>\n",
       "      <td>0</td>\n",
       "      <td>...</td>\n",
       "      <td>0</td>\n",
       "      <td>0</td>\n",
       "      <td>0</td>\n",
       "      <td>0</td>\n",
       "      <td>0</td>\n",
       "      <td>1</td>\n",
       "      <td>0</td>\n",
       "      <td>0</td>\n",
       "      <td>0</td>\n",
       "      <td>0</td>\n",
       "    </tr>\n",
       "    <tr>\n",
       "      <th>2</th>\n",
       "      <td>12</td>\n",
       "      <td>0</td>\n",
       "      <td>0</td>\n",
       "      <td>1</td>\n",
       "      <td>0</td>\n",
       "      <td>0</td>\n",
       "      <td>0</td>\n",
       "      <td>0</td>\n",
       "      <td>1</td>\n",
       "      <td>0</td>\n",
       "      <td>...</td>\n",
       "      <td>0</td>\n",
       "      <td>0</td>\n",
       "      <td>0</td>\n",
       "      <td>0</td>\n",
       "      <td>0</td>\n",
       "      <td>0</td>\n",
       "      <td>0</td>\n",
       "      <td>0</td>\n",
       "      <td>0</td>\n",
       "      <td>0</td>\n",
       "    </tr>\n",
       "    <tr>\n",
       "      <th>3</th>\n",
       "      <td>13</td>\n",
       "      <td>0</td>\n",
       "      <td>0</td>\n",
       "      <td>0</td>\n",
       "      <td>1</td>\n",
       "      <td>0</td>\n",
       "      <td>0</td>\n",
       "      <td>1</td>\n",
       "      <td>0</td>\n",
       "      <td>0</td>\n",
       "      <td>...</td>\n",
       "      <td>0</td>\n",
       "      <td>0</td>\n",
       "      <td>0</td>\n",
       "      <td>0</td>\n",
       "      <td>1</td>\n",
       "      <td>0</td>\n",
       "      <td>0</td>\n",
       "      <td>0</td>\n",
       "      <td>0</td>\n",
       "      <td>0</td>\n",
       "    </tr>\n",
       "    <tr>\n",
       "      <th>4</th>\n",
       "      <td>14</td>\n",
       "      <td>0</td>\n",
       "      <td>0</td>\n",
       "      <td>0</td>\n",
       "      <td>0</td>\n",
       "      <td>0</td>\n",
       "      <td>0</td>\n",
       "      <td>1</td>\n",
       "      <td>0</td>\n",
       "      <td>0</td>\n",
       "      <td>...</td>\n",
       "      <td>0</td>\n",
       "      <td>0</td>\n",
       "      <td>0</td>\n",
       "      <td>0</td>\n",
       "      <td>0</td>\n",
       "      <td>0</td>\n",
       "      <td>0</td>\n",
       "      <td>0</td>\n",
       "      <td>0</td>\n",
       "      <td>0</td>\n",
       "    </tr>\n",
       "  </tbody>\n",
       "</table>\n",
       "<p>5 rows × 21 columns</p>\n",
       "</div>"
      ],
      "text/plain": [
       "   movie_id  genre_Action  genre_Adventure  genre_Animation  genre_Comedy  \\\n",
       "0         5             0                0                0             1   \n",
       "1        11             1                1                0             0   \n",
       "2        12             0                0                1             0   \n",
       "3        13             0                0                0             1   \n",
       "4        14             0                0                0             0   \n",
       "\n",
       "   genre_Crime  genre_Documentary  genre_Drama  genre_Family  genre_Fantasy  \\\n",
       "0            1                  0            0             0              0   \n",
       "1            0                  0            0             0              0   \n",
       "2            0                  0            0             1              0   \n",
       "3            0                  0            1             0              0   \n",
       "4            0                  0            1             0              0   \n",
       "\n",
       "       ...        genre_History  genre_Horror  genre_Music  genre_Mystery  \\\n",
       "0      ...                    0             0            0              0   \n",
       "1      ...                    0             0            0              0   \n",
       "2      ...                    0             0            0              0   \n",
       "3      ...                    0             0            0              0   \n",
       "4      ...                    0             0            0              0   \n",
       "\n",
       "   genre_Romance  genre_Science Fiction  genre_TV Movie  genre_Thriller  \\\n",
       "0              0                      0               0               0   \n",
       "1              0                      1               0               0   \n",
       "2              0                      0               0               0   \n",
       "3              1                      0               0               0   \n",
       "4              0                      0               0               0   \n",
       "\n",
       "   genre_War  genre_Western  \n",
       "0          0              0  \n",
       "1          0              0  \n",
       "2          0              0  \n",
       "3          0              0  \n",
       "4          0              0  \n",
       "\n",
       "[5 rows x 21 columns]"
      ]
     },
     "execution_count": 54,
     "metadata": {},
     "output_type": "execute_result"
    }
   ],
   "source": [
    "dummies = dummies.groupby(['movie_id']).sum()\n",
    "dummies.reset_index(inplace = True) \n",
    "dummies.head()"
   ]
  },
  {
   "cell_type": "code",
   "execution_count": 55,
   "metadata": {},
   "outputs": [
    {
     "data": {
      "text/plain": [
       "(5292, 21)"
      ]
     },
     "execution_count": 55,
     "metadata": {},
     "output_type": "execute_result"
    }
   ],
   "source": [
    "dummies.shape"
   ]
  },
  {
   "cell_type": "markdown",
   "metadata": {},
   "source": [
    "There are 11 such movies where the genre is not specified , taking the majority genre, I am setting them to 'Drama'"
   ]
  },
  {
   "cell_type": "code",
   "execution_count": 57,
   "metadata": {},
   "outputs": [],
   "source": [
    "# set 11 missing NULL dummies to genre_Drama \n",
    "df_movies_with_genre = pd.merge(df_movies_metadata, dummies, left_on = 'id', right_on = 'movie_id', how = 'left')\n",
    "df_movies_with_genre.genre_Drama = df_movies_with_genre.genre_Drama.fillna(1)\n",
    "df_movies_with_genre.fillna(0, inplace = True)\n",
    "df_movies_with_genre.drop('id', axis = 1, inplace = True)"
   ]
  },
  {
   "cell_type": "code",
   "execution_count": 58,
   "metadata": {},
   "outputs": [
    {
     "data": {
      "text/plain": [
       "(5303, 43)"
      ]
     },
     "execution_count": 58,
     "metadata": {},
     "output_type": "execute_result"
    }
   ],
   "source": [
    "df_movies_with_genre.shape"
   ]
  },
  {
   "cell_type": "markdown",
   "metadata": {},
   "source": [
    "Once all the features I need are in place, I created a final dataset contains all the features needed."
   ]
  },
  {
   "cell_type": "code",
   "execution_count": 59,
   "metadata": {},
   "outputs": [],
   "source": [
    "df_final = pd.DataFrame()\n",
    "\n",
    "# add average of revenue earned by actors working in the film \n",
    "df_final = pd.merge(df_movies_with_genre, df_Avg_Rev_of_all_actors[['movie_id', 'avg_rev_of_all_actors_movie']],\n",
    "                    on = ['movie_id'], how = 'left')\n",
    "# add average of revenue earned by directors directing the film \n",
    "df_final = pd.merge(df_final, df_Avg_Rev_of_all_directors[['movie_id', 'avg_rev_of_all_directors_movie']],\n",
    "                    on = ['movie_id'], how = 'left')\n",
    "\n",
    "# add average of revenue earned by production companies producing the film\n",
    "df_final = pd.merge(df_final, df_Avg_Rev_of_all_producers[['movie_id', 'avg_rev_of_all_producers_movie']],\n",
    "                    on = ['movie_id'], how = 'left')"
   ]
  },
  {
   "cell_type": "code",
   "execution_count": 60,
   "metadata": {},
   "outputs": [],
   "source": [
    "# a very small percentage of average revenue figures are missing so I am replacing this with the values of inflation \n",
    "# adjusted revenue \n",
    "df_final.avg_rev_of_all_actors_movie = df_final.avg_rev_of_all_actors_movie.fillna(df_final.inflation_adjusted_revenue)\n",
    "df_final.avg_rev_of_all_directors_movie =df_final.avg_rev_of_all_directors_movie.fillna(df_final.inflation_adjusted_revenue)\n",
    "df_final.avg_rev_of_all_producers_movie =df_final.avg_rev_of_all_producers_movie.fillna(df_final.inflation_adjusted_revenue)"
   ]
  },
  {
   "cell_type": "markdown",
   "metadata": {},
   "source": [
    "There are still some features which I was using for the feature engineering or Data cleaning and now it's time to drop those columns"
   ]
  },
  {
   "cell_type": "code",
   "execution_count": 61,
   "metadata": {},
   "outputs": [],
   "source": [
    "df_final.drop(['adult', 'budget', 'genres', 'imdb_id', 'original_title', 'production_companies', 'production_countries', \n",
    "               'release_date', 'revenue','spoken_languages', 'status', 'Inflation_Adjustment_Factor'],\n",
    "              axis = 1,\n",
    "              inplace = True\n",
    "             )"
   ]
  },
  {
   "cell_type": "markdown",
   "metadata": {},
   "source": [
    "Final Dataset was little tuned."
   ]
  },
  {
   "cell_type": "code",
   "execution_count": 62,
   "metadata": {},
   "outputs": [],
   "source": [
    "df_final = df_final[['movie_id', 'title', 'original_language', 'popularity', 'year_of_release', 'month_of_release', \n",
    "                     'genre_Action', 'genre_Adventure', 'genre_Animation', 'genre_Comedy','genre_Crime', 'genre_Documentary'\n",
    "                     ,'genre_Drama', 'genre_Family','genre_Fantasy', 'genre_Foreign', 'genre_History', 'genre_Horror',\n",
    "                      'genre_Music', 'genre_Mystery', 'genre_Romance','genre_Science Fiction', 'genre_TV Movie', \n",
    "                      'genre_Thriller','genre_War', 'genre_Western','avg_rev_of_all_actors_movie',\n",
    "                      'avg_rev_of_all_directors_movie','avg_rev_of_all_producers_movie','vote_average','vote_count', \n",
    "                      'inflation_adjusted_budget','inflation_adjusted_revenue']]"
   ]
  },
  {
   "cell_type": "code",
   "execution_count": 63,
   "metadata": {},
   "outputs": [],
   "source": [
    "df_final['year_of_release'] = df_final['year_of_release'].astype(int)\n",
    "df_final['month_of_release'] = df_final['month_of_release'].astype(int)"
   ]
  },
  {
   "cell_type": "markdown",
   "metadata": {},
   "source": [
    "Let's see the shape of the final dataset."
   ]
  },
  {
   "cell_type": "code",
   "execution_count": 64,
   "metadata": {},
   "outputs": [
    {
     "data": {
      "text/plain": [
       "(5303, 33)"
      ]
     },
     "execution_count": 64,
     "metadata": {},
     "output_type": "execute_result"
    }
   ],
   "source": [
    "df_final.shape"
   ]
  },
  {
   "cell_type": "markdown",
   "metadata": {},
   "source": [
    "Once I had my final dataset.The next step is Visualization."
   ]
  },
  {
   "cell_type": "markdown",
   "metadata": {},
   "source": [
    "## Visualization"
   ]
  },
  {
   "cell_type": "markdown",
   "metadata": {},
   "source": [
    "This shows the count of movies per genre"
   ]
  },
  {
   "cell_type": "code",
   "execution_count": 65,
   "metadata": {
    "scrolled": true
   },
   "outputs": [
    {
     "data": {
      "image/png": "[encoded data removed]",
      "text/plain": [
       "<Figure size 432x288 with 1 Axes>"
      ]
     },
     "metadata": {
      "needs_background": "light"
     },
     "output_type": "display_data"
    }
   ],
   "source": [
    "plt.figure()\n",
    "df_genres_details['genre'].value_counts().plot(kind='bar')\n",
    "plt.xlabel('Genre')\n",
    "plt.ylabel('Count of Movies')\n",
    "plt.title('Genre count')\n",
    "plt.show()"
   ]
  },
  {
   "cell_type": "markdown",
   "metadata": {},
   "source": [
    "Let's see, how movie business doing over the decades."
   ]
  },
  {
   "cell_type": "code",
   "execution_count": 66,
   "metadata": {
    "scrolled": true
   },
   "outputs": [
    {
     "data": {
      "image/png": "[encoded data removed]",
      "text/plain": [
       "<Figure size 432x288 with 1 Axes>"
      ]
     },
     "metadata": {
      "needs_background": "light"
     },
     "output_type": "display_data"
    }
   ],
   "source": [
    "df_movie_metadata = pd.DataFrame()\n",
    "df_movie_per_year = pd.DataFrame()\n",
    "df_movie_count = pd.DataFrame()\n",
    "df_movie_metadata = pd.read_csv('the-movies-dataset/movies_metadata.csv')\n",
    "df_movie_metadata.dropna(subset=['release_date'],inplace=True)\n",
    "cond = ['False' , 'True']\n",
    "df_movie_metadata = df_movie_metadata.drop(df_movie_metadata[~df_movie_metadata.adult.isin(cond)].index)\n",
    "df_movie_metadata['release_date'] = pd.to_datetime(df_movie_metadata['release_date'])\n",
    "df_movie_metadata['year_of_release'] = df_movie_metadata['release_date'].dt.year\n",
    "\n",
    "df_movie_per_year =  df_movie_metadata[['year_of_release','id']]\n",
    "cond1 = [2020]\n",
    "df_movie_count = df_movie_per_year.groupby('year_of_release').count()\n",
    "df_movie_count = df_movie_count.drop(df_movie_count[df_movie_count.index.isin(cond1)].index)\n",
    "df_movie_count = df_movie_count.groupby((df_movie_count.index//10)*10).sum()\n",
    "\n",
    "fig = plt.figure()\n",
    "plt.plot(df_movie_count.index, df_movie_count['id'], label='High', color='red')\n",
    "plt.xlabel('Year of Release')\n",
    "plt.ylabel('Count of Movies')\n",
    "plt.show()"
   ]
  },
  {
   "cell_type": "markdown",
   "metadata": {},
   "source": [
    "The next visulizations shows the spread of the Budget and Revenue"
   ]
  },
  {
   "cell_type": "code",
   "execution_count": 67,
   "metadata": {},
   "outputs": [
    {
     "data": {
      "image/png": "[encoded data removed]",
      "text/plain": [
       "<Figure size 432x288 with 1 Axes>"
      ]
     },
     "metadata": {
      "needs_background": "light"
     },
     "output_type": "display_data"
    }
   ],
   "source": [
    "df_final['inflation_adjusted_budget'].hist(bins=200, grid=False, xlabelsize=12, ylabelsize=12)\n",
    "plt.xlabel(\"inflation_adjusted_budget\")\n",
    "plt.ylabel(\"Frequency\")\n",
    "plt.show()"
   ]
  },
  {
   "cell_type": "code",
   "execution_count": 68,
   "metadata": {},
   "outputs": [
    {
     "data": {
      "image/png": "[encoded data removed]",
      "text/plain": [
       "<Figure size 432x288 with 1 Axes>"
      ]
     },
     "metadata": {
      "needs_background": "light"
     },
     "output_type": "display_data"
    }
   ],
   "source": [
    "df_final['inflation_adjusted_revenue'].hist(bins=200, grid=False, xlabelsize=12, ylabelsize=12)\n",
    "plt.xlabel(\"inflation_adjusted_revenue\")\n",
    "plt.ylabel(\"Frequency\")\n",
    "plt.show()"
   ]
  },
  {
   "cell_type": "markdown",
   "metadata": {},
   "source": [
    "The descriptive statistics :"
   ]
  },
  {
   "cell_type": "markdown",
   "metadata": {},
   "source": [
    "#### Getting Correlation and p-values of Inflation Adjusted Revenue with other features"
   ]
  },
  {
   "cell_type": "code",
   "execution_count": 69,
   "metadata": {},
   "outputs": [],
   "source": [
    "from scipy import stats\n",
    "df_correlation = pd.DataFrame() # Correlation matrix\n",
    "for x in df_final.columns:\n",
    "    if(df_final[x].dtypes != 'object' ):\n",
    "        corr = stats.pearsonr(df_final[x], df_final['inflation_adjusted_revenue'])\n",
    "        df_correlation.loc[x,'Correlation'] = corr[0]\n",
    "        df_correlation.loc[x,'p-value'] = corr[1]\n",
    "        \n",
    "df_correlation['absolute_value_coefficient'] = np.abs(df_correlation['Correlation'])"
   ]
  },
  {
   "cell_type": "code",
   "execution_count": 70,
   "metadata": {
    "scrolled": true
   },
   "outputs": [
    {
     "data": {
      "text/html": [
       "<div>\n",
       "<style scoped>\n",
       "    .dataframe tbody tr th:only-of-type {\n",
       "        vertical-align: middle;\n",
       "    }\n",
       "\n",
       "    .dataframe tbody tr th {\n",
       "        vertical-align: top;\n",
       "    }\n",
       "\n",
       "    .dataframe thead th {\n",
       "        text-align: right;\n",
       "    }\n",
       "</style>\n",
       "<table border=\"1\" class=\"dataframe\">\n",
       "  <thead>\n",
       "    <tr style=\"text-align: right;\">\n",
       "      <th></th>\n",
       "      <th>Correlation</th>\n",
       "      <th>p-value</th>\n",
       "      <th>absolute_value_coefficient</th>\n",
       "    </tr>\n",
       "  </thead>\n",
       "  <tbody>\n",
       "    <tr>\n",
       "      <th>movie_id</th>\n",
       "      <td>-0.078808</td>\n",
       "      <td>9.109015e-09</td>\n",
       "      <td>0.078808</td>\n",
       "    </tr>\n",
       "    <tr>\n",
       "      <th>year_of_release</th>\n",
       "      <td>-0.101109</td>\n",
       "      <td>1.581369e-13</td>\n",
       "      <td>0.101109</td>\n",
       "    </tr>\n",
       "    <tr>\n",
       "      <th>month_of_release</th>\n",
       "      <td>0.056580</td>\n",
       "      <td>3.747062e-05</td>\n",
       "      <td>0.056580</td>\n",
       "    </tr>\n",
       "    <tr>\n",
       "      <th>genre_Action</th>\n",
       "      <td>0.125643</td>\n",
       "      <td>4.161377e-20</td>\n",
       "      <td>0.125643</td>\n",
       "    </tr>\n",
       "    <tr>\n",
       "      <th>genre_Adventure</th>\n",
       "      <td>0.267901</td>\n",
       "      <td>7.598963e-88</td>\n",
       "      <td>0.267901</td>\n",
       "    </tr>\n",
       "    <tr>\n",
       "      <th>genre_Animation</th>\n",
       "      <td>0.184587</td>\n",
       "      <td>7.361600e-42</td>\n",
       "      <td>0.184587</td>\n",
       "    </tr>\n",
       "    <tr>\n",
       "      <th>genre_Comedy</th>\n",
       "      <td>-0.049480</td>\n",
       "      <td>3.126914e-04</td>\n",
       "      <td>0.049480</td>\n",
       "    </tr>\n",
       "    <tr>\n",
       "      <th>genre_Crime</th>\n",
       "      <td>-0.050956</td>\n",
       "      <td>2.054128e-04</td>\n",
       "      <td>0.050956</td>\n",
       "    </tr>\n",
       "    <tr>\n",
       "      <th>genre_Documentary</th>\n",
       "      <td>-0.042291</td>\n",
       "      <td>2.067496e-03</td>\n",
       "      <td>0.042291</td>\n",
       "    </tr>\n",
       "    <tr>\n",
       "      <th>genre_Drama</th>\n",
       "      <td>-0.141024</td>\n",
       "      <td>5.792588e-25</td>\n",
       "      <td>0.141024</td>\n",
       "    </tr>\n",
       "    <tr>\n",
       "      <th>genre_Family</th>\n",
       "      <td>0.194044</td>\n",
       "      <td>3.717791e-46</td>\n",
       "      <td>0.194044</td>\n",
       "    </tr>\n",
       "    <tr>\n",
       "      <th>genre_Fantasy</th>\n",
       "      <td>0.169550</td>\n",
       "      <td>1.706307e-35</td>\n",
       "      <td>0.169550</td>\n",
       "    </tr>\n",
       "    <tr>\n",
       "      <th>genre_Foreign</th>\n",
       "      <td>-0.036279</td>\n",
       "      <td>8.237548e-03</td>\n",
       "      <td>0.036279</td>\n",
       "    </tr>\n",
       "    <tr>\n",
       "      <th>genre_History</th>\n",
       "      <td>-0.012743</td>\n",
       "      <td>3.535153e-01</td>\n",
       "      <td>0.012743</td>\n",
       "    </tr>\n",
       "    <tr>\n",
       "      <th>genre_Horror</th>\n",
       "      <td>-0.072969</td>\n",
       "      <td>1.040271e-07</td>\n",
       "      <td>0.072969</td>\n",
       "    </tr>\n",
       "    <tr>\n",
       "      <th>genre_Music</th>\n",
       "      <td>0.004407</td>\n",
       "      <td>7.483467e-01</td>\n",
       "      <td>0.004407</td>\n",
       "    </tr>\n",
       "    <tr>\n",
       "      <th>genre_Mystery</th>\n",
       "      <td>-0.028412</td>\n",
       "      <td>3.855163e-02</td>\n",
       "      <td>0.028412</td>\n",
       "    </tr>\n",
       "    <tr>\n",
       "      <th>genre_Romance</th>\n",
       "      <td>-0.035185</td>\n",
       "      <td>1.039415e-02</td>\n",
       "      <td>0.035185</td>\n",
       "    </tr>\n",
       "    <tr>\n",
       "      <th>genre_Science Fiction</th>\n",
       "      <td>0.094669</td>\n",
       "      <td>4.920189e-12</td>\n",
       "      <td>0.094669</td>\n",
       "    </tr>\n",
       "    <tr>\n",
       "      <th>genre_TV Movie</th>\n",
       "      <td>-0.003652</td>\n",
       "      <td>7.903443e-01</td>\n",
       "      <td>0.003652</td>\n",
       "    </tr>\n",
       "    <tr>\n",
       "      <th>genre_Thriller</th>\n",
       "      <td>-0.027290</td>\n",
       "      <td>4.689948e-02</td>\n",
       "      <td>0.027290</td>\n",
       "    </tr>\n",
       "    <tr>\n",
       "      <th>genre_War</th>\n",
       "      <td>0.026678</td>\n",
       "      <td>5.206362e-02</td>\n",
       "      <td>0.026678</td>\n",
       "    </tr>\n",
       "    <tr>\n",
       "      <th>genre_Western</th>\n",
       "      <td>-0.010829</td>\n",
       "      <td>4.304355e-01</td>\n",
       "      <td>0.010829</td>\n",
       "    </tr>\n",
       "    <tr>\n",
       "      <th>avg_rev_of_all_actors_movie</th>\n",
       "      <td>0.937003</td>\n",
       "      <td>0.000000e+00</td>\n",
       "      <td>0.937003</td>\n",
       "    </tr>\n",
       "    <tr>\n",
       "      <th>avg_rev_of_all_directors_movie</th>\n",
       "      <td>0.727041</td>\n",
       "      <td>0.000000e+00</td>\n",
       "      <td>0.727041</td>\n",
       "    </tr>\n",
       "    <tr>\n",
       "      <th>avg_rev_of_all_producers_movie</th>\n",
       "      <td>0.635588</td>\n",
       "      <td>0.000000e+00</td>\n",
       "      <td>0.635588</td>\n",
       "    </tr>\n",
       "    <tr>\n",
       "      <th>vote_average</th>\n",
       "      <td>0.202526</td>\n",
       "      <td>3.322096e-50</td>\n",
       "      <td>0.202526</td>\n",
       "    </tr>\n",
       "    <tr>\n",
       "      <th>vote_count</th>\n",
       "      <td>0.580611</td>\n",
       "      <td>0.000000e+00</td>\n",
       "      <td>0.580611</td>\n",
       "    </tr>\n",
       "    <tr>\n",
       "      <th>inflation_adjusted_budget</th>\n",
       "      <td>0.479137</td>\n",
       "      <td>1.386914e-302</td>\n",
       "      <td>0.479137</td>\n",
       "    </tr>\n",
       "    <tr>\n",
       "      <th>inflation_adjusted_revenue</th>\n",
       "      <td>1.000000</td>\n",
       "      <td>0.000000e+00</td>\n",
       "      <td>1.000000</td>\n",
       "    </tr>\n",
       "  </tbody>\n",
       "</table>\n",
       "</div>"
      ],
      "text/plain": [
       "                                Correlation        p-value  \\\n",
       "movie_id                          -0.078808   9.109015e-09   \n",
       "year_of_release                   -0.101109   1.581369e-13   \n",
       "month_of_release                   0.056580   3.747062e-05   \n",
       "genre_Action                       0.125643   4.161377e-20   \n",
       "genre_Adventure                    0.267901   7.598963e-88   \n",
       "genre_Animation                    0.184587   7.361600e-42   \n",
       "genre_Comedy                      -0.049480   3.126914e-04   \n",
       "genre_Crime                       -0.050956   2.054128e-04   \n",
       "genre_Documentary                 -0.042291   2.067496e-03   \n",
       "genre_Drama                       -0.141024   5.792588e-25   \n",
       "genre_Family                       0.194044   3.717791e-46   \n",
       "genre_Fantasy                      0.169550   1.706307e-35   \n",
       "genre_Foreign                     -0.036279   8.237548e-03   \n",
       "genre_History                     -0.012743   3.535153e-01   \n",
       "genre_Horror                      -0.072969   1.040271e-07   \n",
       "genre_Music                        0.004407   7.483467e-01   \n",
       "genre_Mystery                     -0.028412   3.855163e-02   \n",
       "genre_Romance                     -0.035185   1.039415e-02   \n",
       "genre_Science Fiction              0.094669   4.920189e-12   \n",
       "genre_TV Movie                    -0.003652   7.903443e-01   \n",
       "genre_Thriller                    -0.027290   4.689948e-02   \n",
       "genre_War                          0.026678   5.206362e-02   \n",
       "genre_Western                     -0.010829   4.304355e-01   \n",
       "avg_rev_of_all_actors_movie        0.937003   0.000000e+00   \n",
       "avg_rev_of_all_directors_movie     0.727041   0.000000e+00   \n",
       "avg_rev_of_all_producers_movie     0.635588   0.000000e+00   \n",
       "vote_average                       0.202526   3.322096e-50   \n",
       "vote_count                         0.580611   0.000000e+00   \n",
       "inflation_adjusted_budget          0.479137  1.386914e-302   \n",
       "inflation_adjusted_revenue         1.000000   0.000000e+00   \n",
       "\n",
       "                                absolute_value_coefficient  \n",
       "movie_id                                          0.078808  \n",
       "year_of_release                                   0.101109  \n",
       "month_of_release                                  0.056580  \n",
       "genre_Action                                      0.125643  \n",
       "genre_Adventure                                   0.267901  \n",
       "genre_Animation                                   0.184587  \n",
       "genre_Comedy                                      0.049480  \n",
       "genre_Crime                                       0.050956  \n",
       "genre_Documentary                                 0.042291  \n",
       "genre_Drama                                       0.141024  \n",
       "genre_Family                                      0.194044  \n",
       "genre_Fantasy                                     0.169550  \n",
       "genre_Foreign                                     0.036279  \n",
       "genre_History                                     0.012743  \n",
       "genre_Horror                                      0.072969  \n",
       "genre_Music                                       0.004407  \n",
       "genre_Mystery                                     0.028412  \n",
       "genre_Romance                                     0.035185  \n",
       "genre_Science Fiction                             0.094669  \n",
       "genre_TV Movie                                    0.003652  \n",
       "genre_Thriller                                    0.027290  \n",
       "genre_War                                         0.026678  \n",
       "genre_Western                                     0.010829  \n",
       "avg_rev_of_all_actors_movie                       0.937003  \n",
       "avg_rev_of_all_directors_movie                    0.727041  \n",
       "avg_rev_of_all_producers_movie                    0.635588  \n",
       "vote_average                                      0.202526  \n",
       "vote_count                                        0.580611  \n",
       "inflation_adjusted_budget                         0.479137  \n",
       "inflation_adjusted_revenue                        1.000000  "
      ]
     },
     "execution_count": 70,
     "metadata": {},
     "output_type": "execute_result"
    }
   ],
   "source": [
    "df_correlation"
   ]
  },
  {
   "cell_type": "markdown",
   "metadata": {},
   "source": [
    "The graphical presentation for the correlations is shown below:"
   ]
  },
  {
   "cell_type": "code",
   "execution_count": 71,
   "metadata": {},
   "outputs": [
    {
     "data": {
      "image/png": "[encoded data removed]",
      "text/plain": [
       "<Figure size 576x576 with 2 Axes>"
      ]
     },
     "metadata": {
      "needs_background": "light"
     },
     "output_type": "display_data"
    }
   ],
   "source": [
    "import seaborn as sns\n",
    "plt.figure(figsize=(8,8))\n",
    "sns.heatmap(df_final.corr(),linewidth=1.0)\n",
    "plt.show()"
   ]
  },
  {
   "cell_type": "markdown",
   "metadata": {},
   "source": [
    "Let's have a look at how the data(inflation_adjusted_revenue) distribution versus different features using pairplots"
   ]
  },
  {
   "cell_type": "code",
   "execution_count": 72,
   "metadata": {},
   "outputs": [
    {
     "data": {
      "image/png": "[encoded data removed]",
      "text/plain": [
       "<Figure size 180x5040 with 28 Axes>"
      ]
     },
     "metadata": {
      "needs_background": "light"
     },
     "output_type": "display_data"
    }
   ],
   "source": [
    "pp = sns.pairplot(data=df_final,\n",
    "                  x_vars=['inflation_adjusted_revenue'],\n",
    "                  y_vars=['vote_count', 'inflation_adjusted_budget', 'vote_average','year_of_release', 'month_of_release', \n",
    "                     'genre_Action', 'genre_Adventure', 'genre_Animation', 'genre_Comedy','genre_Crime', 'genre_Documentary'\n",
    "                     ,'genre_Drama', 'genre_Family','genre_Fantasy', 'genre_Foreign', 'genre_History', 'genre_Horror',\n",
    "                      'genre_Music', 'genre_Mystery', 'genre_Romance','genre_Science Fiction', 'genre_TV Movie', \n",
    "                      'genre_Thriller','genre_War', 'genre_Western','avg_rev_of_all_actors_movie',\n",
    "                      'avg_rev_of_all_directors_movie','avg_rev_of_all_producers_movie'])"
   ]
  },
  {
   "cell_type": "code",
   "execution_count": 73,
   "metadata": {},
   "outputs": [
    {
     "data": {
      "image/png": "[encoded data removed]",
      "text/plain": [
       "<Figure size 1440x1440 with 30 Axes>"
      ]
     },
     "metadata": {
      "needs_background": "light"
     },
     "output_type": "display_data"
    }
   ],
   "source": [
    "df_final.hist(figsize = (20,20))\n",
    "plt.show()"
   ]
  },
  {
   "cell_type": "markdown",
   "metadata": {},
   "source": [
    "## Data Modeling"
   ]
  },
  {
   "cell_type": "markdown",
   "metadata": {},
   "source": [
    "Considering all the numerical data featutres"
   ]
  },
  {
   "cell_type": "code",
   "execution_count": 74,
   "metadata": {},
   "outputs": [],
   "source": [
    "df_numeric_data = df_final._get_numeric_data()"
   ]
  },
  {
   "cell_type": "code",
   "execution_count": 75,
   "metadata": {},
   "outputs": [],
   "source": [
    "X = df_numeric_data.iloc[:, :-1]\n",
    "y= df_numeric_data.iloc[:, -1]"
   ]
  },
  {
   "cell_type": "code",
   "execution_count": 76,
   "metadata": {},
   "outputs": [],
   "source": [
    "#dividing data into train and test data\n",
    "from sklearn.model_selection import train_test_split\n",
    "X_train, X_test, y_train, y_test = train_test_split(X, y, test_size=0.30, random_state=42)"
   ]
  },
  {
   "cell_type": "code",
   "execution_count": 77,
   "metadata": {},
   "outputs": [],
   "source": [
    "#scale data\n",
    "from sklearn.preprocessing import StandardScaler\n",
    "\n",
    "my_scaler = StandardScaler()\n",
    "\n",
    "X_train_scaled = my_scaler.fit_transform(X_train)\n",
    "X_test_scaled = my_scaler.transform(X_test)"
   ]
  },
  {
   "cell_type": "markdown",
   "metadata": {},
   "source": [
    "### Linear Regression"
   ]
  },
  {
   "cell_type": "code",
   "execution_count": 78,
   "metadata": {},
   "outputs": [
    {
     "name": "stdout",
     "output_type": "stream",
     "text": [
      "Score on train data: 0.9044150046151612\n",
      "Score on test data: 0.8604645150031482\n"
     ]
    }
   ],
   "source": [
    "from sklearn.linear_model import LinearRegression\n",
    "\n",
    "#Fit a linear regression model\n",
    "linear_model = LinearRegression()\n",
    "linear_model.fit(X_train_scaled, y_train)\n",
    "\n",
    "#Score it\n",
    "train_score = linear_model.score(X_train_scaled, y_train)\n",
    "test_score = linear_model.score(X_test_scaled, y_test)\n",
    "\n",
    "print(f'Score on train data: {train_score}')\n",
    "print(f'Score on test data: {test_score}')"
   ]
  },
  {
   "cell_type": "markdown",
   "metadata": {},
   "source": [
    "### Decision Tree"
   ]
  },
  {
   "cell_type": "code",
   "execution_count": 79,
   "metadata": {},
   "outputs": [],
   "source": [
    "from sklearn.tree import DecisionTreeRegressor \n",
    "\n",
    "dt_scores = []\n",
    "depths = list(range(1,20))\n",
    "for d in depths:\n",
    "    \n",
    "    my_dt = DecisionTreeRegressor(max_depth=d)\n",
    "    my_dt.fit(X_train_scaled, y_train)\n",
    "    \n",
    "    dt_scores.append(my_dt.score(X_test_scaled, y_test))"
   ]
  },
  {
   "cell_type": "code",
   "execution_count": 81,
   "metadata": {},
   "outputs": [
    {
     "data": {
      "image/png": "[encoded data removed]",
      "text/plain": [
       "<Figure size 432x288 with 1 Axes>"
      ]
     },
     "metadata": {
      "needs_background": "light"
     },
     "output_type": "display_data"
    }
   ],
   "source": [
    "plt.figure()\n",
    "plt.plot(depths, dt_scores)\n",
    "plt.scatter(depths[np.argmax(dt_scores)], \n",
    "            dt_scores[np.argmax(dt_scores)], \n",
    "            c=\"red\")\n",
    "plt.show()"
   ]
  },
  {
   "cell_type": "code",
   "execution_count": 83,
   "metadata": {},
   "outputs": [
    {
     "name": "stdout",
     "output_type": "stream",
     "text": [
      "The value of depth at which Test Score is maximum:  6\n",
      "The maximum Test Score(R-squared) is :  0.8779262121020546\n"
     ]
    }
   ],
   "source": [
    "print('The value of depth at which Test Score is maximum: ',dt_scores.index(max(dt_scores))+1 )\n",
    "print('The maximum Test Score(R-squared) is : ',max(dt_scores))"
   ]
  },
  {
   "cell_type": "markdown",
   "metadata": {},
   "source": [
    "### PCA"
   ]
  },
  {
   "cell_type": "code",
   "execution_count": 84,
   "metadata": {},
   "outputs": [
    {
     "name": "stdout",
     "output_type": "stream",
     "text": [
      "There are 5303 data points, each with 29 features.\n"
     ]
    }
   ],
   "source": [
    "print(\"There are\", X.shape[0], 'data points, each with', X.shape[1], 'features.')"
   ]
  },
  {
   "cell_type": "code",
   "execution_count": 85,
   "metadata": {},
   "outputs": [],
   "source": [
    "from sklearn.decomposition import PCA\n",
    "\n",
    "# Instantiate & fit PCA model \n",
    "# Generate all 29 PCs\n",
    "my_pca = PCA(n_components=29)\n",
    "my_pca.fit(X_train_scaled)\n",
    "\n",
    "# transform data \n",
    "X_PCA = my_pca.transform(X_train_scaled)"
   ]
  },
  {
   "cell_type": "code",
   "execution_count": 86,
   "metadata": {},
   "outputs": [
    {
     "name": "stdout",
     "output_type": "stream",
     "text": [
      "[1.39831128e-01 8.13593432e-02 7.29853824e-02 5.71905054e-02\n",
      " 5.15118707e-02 4.60775370e-02 4.33911657e-02 4.00867103e-02\n",
      " 3.72591291e-02 3.69176032e-02 3.52059549e-02 3.40484149e-02\n",
      " 3.27716267e-02 3.13658983e-02 2.89483272e-02 2.71565327e-02\n",
      " 2.49977994e-02 2.34834165e-02 2.28684581e-02 2.16205333e-02\n",
      " 1.84495596e-02 1.73709064e-02 1.64160291e-02 1.40648840e-02\n",
      " 1.35026917e-02 1.25770197e-02 1.08069275e-02 7.73464559e-03\n",
      " 8.92543894e-34]\n"
     ]
    }
   ],
   "source": [
    "expl_var = my_pca.explained_variance_ratio_\n",
    "print(expl_var)"
   ]
  },
  {
   "cell_type": "code",
   "execution_count": 87,
   "metadata": {},
   "outputs": [
    {
     "data": {
      "image/png": "[encoded data removed]",
      "text/plain": [
       "<Figure size 432x288 with 1 Axes>"
      ]
     },
     "metadata": {
      "needs_background": "light"
     },
     "output_type": "display_data"
    }
   ],
   "source": [
    "plt.figure()\n",
    "plt.plot(range(1,30),expl_var,marker='.')\n",
    "plt.xlabel('Number of PCs')\n",
    "plt.ylabel('Proportion of Variance Explained')\n",
    "plt.xticks(range(1,30,2))\n",
    "plt.show()"
   ]
  },
  {
   "cell_type": "code",
   "execution_count": 88,
   "metadata": {},
   "outputs": [
    {
     "name": "stdout",
     "output_type": "stream",
     "text": [
      "[0.13983113 0.22119047 0.29417585 0.35136636 0.40287823 0.44895577\n",
      " 0.49234693 0.53243364 0.56969277 0.60661037 0.64181633 0.67586474\n",
      " 0.70863637 0.74000227 0.7689506  0.79610713 0.82110493 0.84458835\n",
      " 0.8674568  0.88907734 0.9075269  0.9248978  0.94131383 0.95537872\n",
      " 0.96888141 0.98145843 0.99226535 1.         1.        ]\n"
     ]
    }
   ],
   "source": [
    "expl_var_cumulative = my_pca.explained_variance_ratio_.cumsum()\n",
    "print(expl_var_cumulative)"
   ]
  },
  {
   "cell_type": "code",
   "execution_count": 89,
   "metadata": {},
   "outputs": [
    {
     "data": {
      "image/png": "[encoded data removed]",
      "text/plain": [
       "<Figure size 432x288 with 1 Axes>"
      ]
     },
     "metadata": {
      "needs_background": "light"
     },
     "output_type": "display_data"
    }
   ],
   "source": [
    "plt.figure()\n",
    "plt.plot(range(1,30),expl_var_cumulative,marker='.')\n",
    "plt.xlabel('Number of PCs')\n",
    "plt.ylabel('Proportion of Variance Explained')\n",
    "plt.xticks(range(1,30,2))\n",
    "plt.show()"
   ]
  },
  {
   "cell_type": "code",
   "execution_count": 90,
   "metadata": {},
   "outputs": [],
   "source": [
    "# 6 features gives the same results as 29\n",
    "my_pca = PCA(n_components=6)\n",
    "my_pca.fit(X_train)\n",
    "\n",
    "# transform data onto the first two principal components\n",
    "X_train_PCA = my_pca.transform(X_train_scaled)\n",
    "\n",
    "# Transform test data, with PCA fit on trainign data!!!\n",
    "X_test_PCA = my_pca.transform(X_test_scaled)"
   ]
  },
  {
   "cell_type": "code",
   "execution_count": 91,
   "metadata": {},
   "outputs": [
    {
     "name": "stdout",
     "output_type": "stream",
     "text": [
      "The train Score(R-squared) is: 0.901\n",
      "The test Score(R-squared) is: 0.860\n"
     ]
    }
   ],
   "source": [
    "# Instantiate and train the classifier\n",
    "linear_regression_PCA = LinearRegression()\n",
    "linear_regression_PCA.fit(X_train_PCA, y_train)\n",
    "# Evaluate it\n",
    "\n",
    "print(f'The train Score(R-squared) is: {linear_regression_PCA.score(X_train_PCA,y_train):0.3f}')\n",
    "print(f'The test Score(R-squared) is: {linear_regression_PCA.score(X_test_PCA,y_test):0.3f}')"
   ]
  },
  {
   "cell_type": "markdown",
   "metadata": {},
   "source": [
    "### KNN  "
   ]
  },
  {
   "cell_type": "code",
   "execution_count": 92,
   "metadata": {},
   "outputs": [],
   "source": [
    "from sklearn.neighbors import KNeighborsRegressor\n",
    "\n",
    "knn_scores = []\n",
    "Ks = list(range(1,20))\n",
    "for k in Ks:\n",
    "    \n",
    "    my_knn = KNeighborsRegressor(n_neighbors=k)\n",
    "    my_knn.fit(X_train_scaled, y_train)\n",
    "    \n",
    "    knn_scores.append(my_knn.score(X_test_scaled, y_test))"
   ]
  },
  {
   "cell_type": "code",
   "execution_count": 93,
   "metadata": {},
   "outputs": [
    {
     "data": {
      "image/png": "[encoded data removed]",
      "text/plain": [
       "<Figure size 432x288 with 1 Axes>"
      ]
     },
     "metadata": {
      "needs_background": "light"
     },
     "output_type": "display_data"
    }
   ],
   "source": [
    "plt.figure()\n",
    "plt.plot(Ks, knn_scores)\n",
    "plt.scatter(depths[np.argmax(knn_scores)], \n",
    "            knn_scores[np.argmax(knn_scores)], \n",
    "            c=\"red\")\n",
    "plt.show()"
   ]
  },
  {
   "cell_type": "code",
   "execution_count": 95,
   "metadata": {
    "scrolled": true
   },
   "outputs": [
    {
     "name": "stdout",
     "output_type": "stream",
     "text": [
      "The number of neighbours at which Test Score(R-squared) is maximum:  4\n",
      "The maximum Test Score(R-squared) is :  0.7210372471888487\n"
     ]
    }
   ],
   "source": [
    "print('The number of neighbours at which Test Score(R-squared) is maximum: ',knn_scores.index(max(knn_scores))+1 )\n",
    "print('The maximum Test Score(R-squared) is : ', max(knn_scores))"
   ]
  },
  {
   "cell_type": "markdown",
   "metadata": {},
   "source": [
    "### SVM"
   ]
  },
  {
   "cell_type": "code",
   "execution_count": 96,
   "metadata": {},
   "outputs": [],
   "source": [
    "from sklearn.svm import LinearSVR\n",
    "c_values = list(range(-10, 15))\n",
    "train_scores = []\n",
    "test_scores = []\n",
    "\n",
    "for c in c_values:\n",
    "    my_SVM = LinearSVR(C=10**c)\n",
    "    my_SVM.fit(X_train_scaled, y_train)\n",
    "\n",
    "    \n",
    "    train_scores.append(my_SVM.score(X_train_scaled, y_train))\n",
    "    test_scores.append(my_SVM.score(X_test_scaled, y_test))"
   ]
  },
  {
   "cell_type": "code",
   "execution_count": 97,
   "metadata": {},
   "outputs": [
    {
     "name": "stdout",
     "output_type": "stream",
     "text": [
      "The number of neighbours at which Test Score is maximum:  8\n",
      "The maximum Test Score is :  0.8533189984452335\n"
     ]
    }
   ],
   "source": [
    "print('The number of neighbours at which Test Score is maximum: '\n",
    "      ,c_values[np.argmax(test_scores)])\n",
    "print('The maximum Test Score is : ',max(test_scores))"
   ]
  },
  {
   "cell_type": "code",
   "execution_count": 98,
   "metadata": {},
   "outputs": [
    {
     "data": {
      "image/png": "[encoded data removed]",
      "text/plain": [
       "<Figure size 432x288 with 1 Axes>"
      ]
     },
     "metadata": {
      "needs_background": "light"
     },
     "output_type": "display_data"
    }
   ],
   "source": [
    "plt.figure()\n",
    "plt.plot(c_values, train_scores, c=\"blue\", label=\"train acc\")\n",
    "plt.plot(c_values, test_scores, c=\"red\", label=\"test acc\")\n",
    "plt.legend()\n",
    "plt.show()"
   ]
  },
  {
   "cell_type": "markdown",
   "metadata": {},
   "source": [
    "### Comparing predicted revenues and the actual inflation_adjusted_revenue and how far the predicted values are from the values provided in the dataset"
   ]
  },
  {
   "cell_type": "code",
   "execution_count": 99,
   "metadata": {},
   "outputs": [],
   "source": [
    "y_pred = linear_model.predict(X_test_scaled)\n",
    "df = pd.DataFrame()\n",
    "df = pd.DataFrame({'Actual': y_test, 'Predicted': y_pred})\n",
    "df['difference']= abs((df['Actual']-df['Predicted'])/df['Actual'] * 100)"
   ]
  },
  {
   "cell_type": "code",
   "execution_count": 100,
   "metadata": {
    "scrolled": true
   },
   "outputs": [
    {
     "data": {
      "image/png": "[encoded data removed]",
      "text/plain": [
       "<Figure size 1080x432 with 1 Axes>"
      ]
     },
     "metadata": {
      "needs_background": "light"
     },
     "output_type": "display_data"
    }
   ],
   "source": [
    "df1 = df.sort_values('difference',ascending = True).head(30)\n",
    "df1.plot(kind='bar',figsize=(15,6))\n",
    "plt.grid(which='major', linestyle='-', linewidth='0.5', color='green')\n",
    "plt.grid(which='minor', linestyle=':', linewidth='0.5', color='black')\n",
    "plt.show()"
   ]
  },
  {
   "cell_type": "markdown",
   "metadata": {},
   "source": [
    "## RESULTS & CONCLUSIONS"
   ]
  },
  {
   "cell_type": "markdown",
   "metadata": {},
   "source": [
    "I modelled against various ML Regressor models (Linear, KNN, Decision Tree and SVM) and the results were almost identical. Amongst all, the best results that I got is with Decision Tree Regressor which is <b>87.88%</b>.\n",
    "\n",
    "Since the results were identical, in order to increase the efficiency of the models further I need to concentrate  on more Feature Engineering."
   ]
  },
  {
   "cell_type": "markdown",
   "metadata": {},
   "source": [
    "## FUTURE WORK"
   ]
  },
  {
   "cell_type": "markdown",
   "metadata": {},
   "source": [
    "<ul>\n",
    "    <li>The above analysis is not the final outcome of the project. Since in box-office terms, one can classify movies as :\n",
    "\n",
    "<b>BlockBuster, Superhit, Hit, Average, Flop</b> and <b>Disaster</b>\n",
    "\n",
    "I wish to convert this into Multinomial classification, where I would use neural networks.\n",
    "    </li>\n",
    "    <li>I would also like to consider <b>keywords</b> describing a movie as a feature to evaluate NLP models as part of the classification.</li>\n",
    "    </ul>"
   ]
  }
 ],
 "metadata": {
  "kernelspec": {
   "display_name": "Python 3",
   "language": "python",
   "name": "python3"
  },
  "language_info": {
   "codemirror_mode": {
    "name": "ipython",
    "version": 3
   },
   "file_extension": ".py",
   "mimetype": "text/x-python",
   "name": "python",
   "nbconvert_exporter": "python",
   "pygments_lexer": "ipython3",
   "version": "3.6.5"
  }
 },
 "nbformat": 4,
 "nbformat_minor": 4
}
